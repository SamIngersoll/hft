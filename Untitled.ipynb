{
 "cells": [
  {
   "cell_type": "code",
   "execution_count": 1,
   "id": "2a3517c9-3999-4746-9887-a007db37869b",
   "metadata": {},
   "outputs": [],
   "source": [
    "import numpy as np\n",
    "import multiprocessing\n",
    "\n",
    "from typing import List, Tuple, Optional\n",
    "\n",
    "from order_side import OrderSide\n",
    "\n",
    "\n",
    "class EMA_strategy:\n",
    "    \"\"\"Class to hold EMA trading logic\n",
    "\n",
    "    Why even have a class for this?\n",
    "    - Easier management of previous EMA values, prices values, e.t.c.\n",
    "    \"\"\"\n",
    "\n",
    "    def __init__(self, ema_smoothing_const: float = 0.1, period_range: int = 2):\n",
    "        \"\"\"\n",
    "        params:\n",
    "            ema_smoothing_const - constant, determined by optimize. 0.1 is assumed to be good initial guess\n",
    "            period_range - number of periods over which the EMA is calculated\n",
    "        \"\"\"\n",
    "        self.ema_smoothing_const_1: float = ema_smoothing_const\n",
    "        self.ema_smoothing_const_2: float = ema_smoothing_const\n",
    "        self.period_range_1: int = period_range\n",
    "        self.period_range_2: int = period_range - 1\n",
    "        self._prev_ema_val_1: Optional[float] = None  # default initial EMA value to 0\n",
    "        self._prev_ema_val_2: Optional[float] = None  # default initial EMA value to 0\n",
    "        self._pool = multiprocessing.Pool(multiprocessing.cpu_count() - 1)\n",
    "\n",
    "    def ema(\n",
    "        self,\n",
    "        cur_price: float,\n",
    "        prev_ema: float,\n",
    "        ema_smoothing_const: float,\n",
    "        period_range: int,\n",
    "    ):\n",
    "        return cur_price * ema_smoothing_const / (1 + period_range) + prev_ema * (\n",
    "            1 - ema_smoothing_const / (1 + period_range)\n",
    "        )\n",
    "\n",
    "    def ema_pair(self, cur_price: float) -> float:\n",
    "        \"Simply return EMA values at given cur_price\"\n",
    "\n",
    "        # if this is the first call to EMA, set the previous ema to cur price\n",
    "        self._prev_ema_val_1 = (\n",
    "            cur_price if self._prev_ema_val_1 is None else self._prev_ema_val_1\n",
    "        )\n",
    "        self._prev_ema_val_2 = (\n",
    "            cur_price if self._prev_ema_val_2 is None else self._prev_ema_val_2\n",
    "        )\n",
    "\n",
    "        ema1 = self.ema(\n",
    "            cur_price,\n",
    "            self._prev_ema_val_1,\n",
    "            self.ema_smoothing_const_1,\n",
    "            self.period_range_1,\n",
    "        )\n",
    "        ema2 = self.ema(\n",
    "            cur_price,\n",
    "            self._prev_ema_val_2,\n",
    "            self.ema_smoothing_const_2,\n",
    "            self.period_range_2,\n",
    "        )\n",
    "\n",
    "        self._prev_ema_val_1 = ema1\n",
    "        self._prev_ema_val_2 = ema2\n",
    "\n",
    "        return ema1, ema2\n",
    "\n",
    "    def action(self, cur_price: float) -> int:\n",
    "        \"\"\"\n",
    "        Returns:\n",
    "             1 if should buy\n",
    "             0 if do nothing\n",
    "            -1 if should sell\n",
    "        \"\"\"\n",
    "        ema1, ema2 = self.ema_pair(cur_price)\n",
    "        if ema2 > ema1:\n",
    "            return OrderSide.BUY\n",
    "        elif ema1 > ema2:\n",
    "            return OrderSide.SELL\n",
    "        return OrderSide.NO_OP\n",
    "\n",
    "    def set_params(\n",
    "        self,\n",
    "        ema_smoothing_const_1: float,\n",
    "        period_range_1: float,\n",
    "        ema_smoothing_const_2: int,\n",
    "        period_range_2: int,\n",
    "    ):\n",
    "        print(\n",
    "            f\"SET PARAMS: {ema_smoothing_const_1} {period_range_1} {ema_smoothing_const_1} {period_range_2}\"\n",
    "        )\n",
    "        self.ema_smoothing_const_1: float = ema_smoothing_const_1\n",
    "        self.ema_smoothing_const_2: float = ema_smoothing_const_2\n",
    "        self.period_range_1: float = period_range_1\n",
    "        self.period_range_2: float = period_range_2\n",
    "\n",
    "    def get_params(self):\n",
    "        return (\n",
    "            self.ema_smoothing_const_1,\n",
    "            self.period_range_1,\n",
    "            self.ema_smoothing_const_2,\n",
    "            self.period_range_2,\n",
    "        )\n",
    "\n",
    "    def optimize(self, prices: np.array, ema_const_range: int = 10):\n",
    "        \"\"\"\n",
    "        Optimizes ema params over prices\n",
    "        \"\"\"\n",
    "        for j in range(ema_const_range):\n",
    "            _, parameters = _optimize_given_j(j, prices, ema_const_range)\n",
    "        self.set_params(*parameters)\n",
    "\n",
    "    def optimize_multiprocess(self, prices: np.array, ema_const_range: int = 10):\n",
    "        \"\"\"\n",
    "        Optimizes ema params over prices\n",
    "        \"\"\"\n",
    "        num_cores = multiprocessing.cpu_count()\n",
    "        best_score, best_params = max(\n",
    "            self._pool.starmap(\n",
    "                _optimize_given_j,\n",
    "                zip(\n",
    "                    range(ema_const_range),\n",
    "                    [prices] * ema_const_range,\n",
    "                    [ema_const_range] * ema_const_range,\n",
    "                ),\n",
    "            )\n",
    "        )\n",
    "        self.set_params(*best_params)\n",
    "\n",
    "    def optimize_multiprocess_async(self, prices: np.array, ema_const_range: int = 10):\n",
    "        \"\"\"\n",
    "        Optimizes ema params over prices,\n",
    "        \"\"\"\n",
    "\n",
    "        def cb(results):\n",
    "            best_score, best_params = max(results)\n",
    "            self.set_params(*best_params)\n",
    "\n",
    "        return self._pool.starmap_async(\n",
    "            _optimize_given_j,\n",
    "            zip(\n",
    "                range(ema_const_range),\n",
    "                [prices] * ema_const_range,\n",
    "                [ema_const_range] * ema_const_range,\n",
    "            ),\n",
    "            callback=cb,\n",
    "        )\n",
    "\n",
    "\n",
    "mat1 = np.zeros([10,10])\n",
    "mat2 = np.zeros([10,10])\n",
    "\n",
    "    \n",
    "def _optimize_given_j(j: int, prices: list, ema_const_range: int = 10):\n",
    "    def ema(\n",
    "        cur_price: float,\n",
    "        prev_ema: float,\n",
    "        ema_smoothing_const: float,\n",
    "        period_range: int,\n",
    "    ):\n",
    "        return cur_price * ema_smoothing_const / (1 + period_range) + prev_ema * (\n",
    "            1 - ema_smoothing_const / (1 + period_range)\n",
    "        )\n",
    "\n",
    "    global mat1, mat2\n",
    "    \n",
    "    best_score = 0\n",
    "\n",
    "    best_ema_smoothing_const_1 = 0\n",
    "    best_period_range_1 = 0\n",
    "    best_ema_smoothing_const_2 = 0\n",
    "    best_period_range_2 = 0\n",
    "\n",
    "    prev_price, *prices = prices\n",
    "    for k in range(ema_const_range):\n",
    "        for l in range(ema_const_range):\n",
    "            for m in range(ema_const_range):\n",
    "                base = 100\n",
    "                quote = 0\n",
    "\n",
    "                d1 = j\n",
    "                d2 = k\n",
    "                ema_smoothing_const_1 = l / 10\n",
    "                ema_smoothing_const_2 = m / 10\n",
    "\n",
    "                prev_ema1 = prev_price\n",
    "                prev_ema2 = prev_price\n",
    "\n",
    "                for i, price in enumerate(prices):\n",
    "\n",
    "                    # trading logic\n",
    "                    ema1 = ema(price, prev_ema1, ema_smoothing_const_1, d1)\n",
    "                    ema2 = ema(price, prev_ema2, ema_smoothing_const_2, d2)\n",
    "\n",
    "                    percent_change = (price - prev_price) / prev_price\n",
    "                    quote *= 1 + percent_change\n",
    "\n",
    "                    if ema2 > ema1:\n",
    "                        # buy\n",
    "                        if base > 0:\n",
    "                            quote += 0.999 * base\n",
    "                            base = 0\n",
    "                    elif ema1 < ema2:\n",
    "                        # sell\n",
    "                        if quote > 0:\n",
    "                            base += 0.999 * quote\n",
    "                            quote = 0\n",
    "\n",
    "                    prev_price = price\n",
    "\n",
    "                mat1[j,k] = quote + base\n",
    "                mat2[l,m] = quote + base\n",
    "                if quote + base > best_score:\n",
    "                    best_score = quote + base\n",
    "                    best_period_range_1 = d1\n",
    "                    best_period_range_2 = d2\n",
    "                    best_ema_smoothing_const_1 = ema_smoothing_const_1\n",
    "                    best_ema_smoothing_const_2 = ema_smoothing_const_2\n",
    "\n",
    "    return best_score, (\n",
    "        best_ema_smoothing_const_1,\n",
    "        best_period_range_1,\n",
    "        best_ema_smoothing_const_2,\n",
    "        best_period_range_2,\n",
    "    )\n"
   ]
  },
  {
   "cell_type": "code",
   "execution_count": 2,
   "id": "48f3f10c-3f67-4960-af32-cf32cb0b1001",
   "metadata": {},
   "outputs": [],
   "source": [
    "import pandas as pd\n",
    "\n",
    "history = pd.read_csv('./binance_DOGEBTC_1m.csv') # dogecoin data\n",
    "brices = history['open'].tolist()\n",
    "\n",
    "for j in range(10):\n",
    "    _optimize_given_j(j, brices[:5000])"
   ]
  },
  {
   "cell_type": "code",
   "execution_count": 3,
   "id": "5887c2ff-ae83-4c71-8c18-92431978985a",
   "metadata": {},
   "outputs": [
    {
     "data": {
      "text/plain": [
       "<matplotlib.colorbar.Colorbar at 0x123811790>"
      ]
     },
     "execution_count": 3,
     "metadata": {},
     "output_type": "execute_result"
    },
    {
     "data": {
      "image/png": "[encoded data removed]",
      "text/plain": [
       "<Figure size 432x288 with 2 Axes>"
      ]
     },
     "metadata": {
      "needs_background": "light"
     },
     "output_type": "display_data"
    }
   ],
   "source": [
    "import matplotlib.pyplot as plt\n",
    "plt.imshow(mat1)\n",
    "plt.colorbar()\n"
   ]
  },
  {
   "cell_type": "code",
   "execution_count": 5,
   "id": "b7ac5491-e41b-4179-81d8-61e26978c9a3",
   "metadata": {},
   "outputs": [
    {
     "data": {
      "text/plain": [
       "<matplotlib.colorbar.Colorbar at 0x1239d3670>"
      ]
     },
     "execution_count": 5,
     "metadata": {},
     "output_type": "execute_result"
    },
    {
     "data": {
      "image/png": "[encoded data removed]",
      "text/plain": [
       "<Figure size 432x288 with 2 Axes>"
      ]
     },
     "metadata": {
      "needs_background": "light"
     },
     "output_type": "display_data"
    }
   ],
   "source": [
    "plt.imshow(mat2)\n",
    "plt.colorbar()"
   ]
  },
  {
   "cell_type": "code",
   "execution_count": 8,
   "id": "0e3315c0-5087-45fb-9a3b-a61b44556f81",
   "metadata": {},
   "outputs": [
    {
     "data": {
      "text/plain": [
       "<matplotlib.colorbar.Colorbar at 0x123ab8fd0>"
      ]
     },
     "execution_count": 8,
     "metadata": {},
     "output_type": "execute_result"
    },
    {
     "data": {
      "image/png": "[encoded data removed]",
      "text/plain": [
       "<Figure size 432x288 with 2 Axes>"
      ]
     },
     "metadata": {
      "needs_background": "light"
     },
     "output_type": "display_data"
    }
   ],
   "source": [
    "plt.imshow(mat1 - mat2)\n",
    "plt.colorbar()"
   ]
  },
  {
   "cell_type": "code",
   "execution_count": null,
   "id": "4d15985f-d7a9-4d9a-baa3-9c6837982128",
   "metadata": {},
   "outputs": [],
   "source": []
  }
 ],
 "metadata": {
  "kernelspec": {
   "display_name": "Python 3",
   "language": "python",
   "name": "python3"
  },
  "language_info": {
   "codemirror_mode": {
    "name": "ipython",
    "version": 3
   },
   "file_extension": ".py",
   "mimetype": "text/x-python",
   "name": "python",
   "nbconvert_exporter": "python",
   "pygments_lexer": "ipython3",
   "version": "3.9.5"
  }
 },
 "nbformat": 4,
 "nbformat_minor": 5
}
