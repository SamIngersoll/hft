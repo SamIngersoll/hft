{
 "cells": [
  {
   "cell_type": "code",
   "execution_count": 1,
   "id": "62eab7bb-71ba-47a0-8a72-e4f0edee738d",
   "metadata": {},
   "outputs": [],
   "source": [
    "import time\n",
    "import numpy as np\n",
    "import pandas as pd\n",
    "import matplotlib.pyplot as plt\n",
    "\n",
    "from order_side import OrderSide\n",
    "from ema_trader import EMA_trader"
   ]
  },
  {
   "cell_type": "code",
   "execution_count": 2,
   "id": "2b4c0999-c7c2-4412-9909-b7c6c806b4f2",
   "metadata": {},
   "outputs": [],
   "source": [
    "history = pd.read_csv('./binance_DOGEBTC_1m.csv') # dogecoin data\n",
    "# history = history.iloc[0:80000]\n",
    "prices = history['open'].tolist()"
   ]
  },
  {
   "cell_type": "code",
   "execution_count": 3,
   "id": "9c94bbe6-4367-4a6a-b54c-0c910b9ad80a",
   "metadata": {},
   "outputs": [
    {
     "data": {
      "text/plain": [
       "[<matplotlib.lines.Line2D at 0x1308a3790>]"
      ]
     },
     "execution_count": 3,
     "metadata": {},
     "output_type": "execute_result"
    },
    {
     "data": {
      "image/png": "[encoded data removed]",
      "text/plain": [
       "<Figure size 432x288 with 1 Axes>"
      ]
     },
     "metadata": {
      "needs_background": "light"
     },
     "output_type": "display_data"
    }
   ],
   "source": [
    "plt.plot(prices)"
   ]
  },
  {
   "cell_type": "code",
   "execution_count": 5,
   "id": "11ad9230-b827-47b5-a917-d6cdd165ab73",
   "metadata": {},
   "outputs": [
    {
     "name": "stdout",
     "output_type": "stream",
     "text": [
      "New Params: 0.0 9 0.0 0\n",
      "0.00%\tBTC: 0\tDOGE: 103.57142857142856\tNUM BUYS: 0\tNUM SELLS: 0\n",
      "New Params: 0.0 9 0.0 0\n",
      "0.61%\tBTC: 0\tDOGE: 100.0\tNUM BUYS: 0\tNUM SELLS: 0\n",
      "New Params: 0.1 9 0.1 0\n",
      "1.22%\tBTC: 103.46785714285734\tDOGE: 0.0\tNUM BUYS: 0\tNUM SELLS: 1\n",
      "New Params: 0.1 9 0.1 0\n",
      "1.83%\tBTC: 103.46785714285734\tDOGE: 0.0\tNUM BUYS: 0\tNUM SELLS: 1\n",
      "New Params: 0.2 1 0.2 0\n",
      "2.44%\tBTC: 103.46785714285734\tDOGE: 0.0\tNUM BUYS: 0\tNUM SELLS: 1\n",
      "New Params: 0.1 9 0.1 0\n",
      "3.05%\tBTC: 103.46785714285734\tDOGE: 0.0\tNUM BUYS: 0\tNUM SELLS: 1\n",
      "New Params: 0.2 1 0.2 0\n",
      "3.66%\tBTC: 103.46785714285734\tDOGE: 0.0\tNUM BUYS: 0\tNUM SELLS: 1\n",
      "New Params: 0.1 9 0.1 0\n",
      "4.27%\tBTC: 0\tDOGE: 103.36438928571448\tNUM BUYS: 1\tNUM SELLS: 1\n",
      "New Params: 0.0 9 0.0 0\n",
      "4.88%\tBTC: 0\tDOGE: 99.53607857142869\tNUM BUYS: 1\tNUM SELLS: 1\n",
      "New Params: 0.2 3 0.2 0\n",
      "5.49%\tBTC: 0\tDOGE: 95.70776785714297\tNUM BUYS: 1\tNUM SELLS: 1\n",
      "New Params: 0.2 5 0.2 0\n",
      "6.10%\tBTC: 0\tDOGE: 95.70776785714297\tNUM BUYS: 1\tNUM SELLS: 1\n",
      "New Params: 0.2 5 0.2 0\n",
      "6.71%\tBTC: 0\tDOGE: 95.70776785714287\tNUM BUYS: 1\tNUM SELLS: 1\n",
      "New Params: 0.1 9 0.1 0\n",
      "7.31%\tBTC: 0\tDOGE: 95.70776785714287\tNUM BUYS: 1\tNUM SELLS: 1\n",
      "New Params: 0.0 9 0.0 0\n",
      "7.92%\tBTC: 0\tDOGE: 99.53607857142859\tNUM BUYS: 1\tNUM SELLS: 1\n",
      "New Params: 0.1 9 0.1 0\n",
      "8.53%\tBTC: 0\tDOGE: 99.53607857142859\tNUM BUYS: 1\tNUM SELLS: 1\n",
      "New Params: 0.1 9 0.1 0\n",
      "9.14%\tBTC: 0\tDOGE: 95.70776785714287\tNUM BUYS: 1\tNUM SELLS: 1\n",
      "New Params: 0.0 9 0.0 0\n",
      "9.75%\tBTC: 0\tDOGE: 95.70776785714287\tNUM BUYS: 1\tNUM SELLS: 1\n",
      "New Params: 0.0 9 0.0 0\n",
      "10.36%\tBTC: 0\tDOGE: 88.05114642857144\tNUM BUYS: 1\tNUM SELLS: 1\n",
      "New Params: 0.2 9 0.2 0\n",
      "10.97%\tBTC: 0\tDOGE: 88.05114642857144\tNUM BUYS: 1\tNUM SELLS: 1\n",
      "New Params: 0.2 9 0.2 0\n",
      "11.58%\tBTC: 0\tDOGE: 88.05114642857144\tNUM BUYS: 1\tNUM SELLS: 1\n",
      "New Params: 0.1 9 0.1 0\n",
      "12.19%\tBTC: 0\tDOGE: 88.05114642857144\tNUM BUYS: 1\tNUM SELLS: 1\n",
      "New Params: 0.1 9 0.1 0\n",
      "12.80%\tBTC: 0\tDOGE: 99.53607857142859\tNUM BUYS: 1\tNUM SELLS: 1\n",
      "New Params: 0.1 9 0.1 0\n",
      "13.41%\tBTC: 0\tDOGE: 95.70776785714287\tNUM BUYS: 1\tNUM SELLS: 1\n",
      "New Params: 0.1 9 0.1 0\n",
      "14.02%\tBTC: 0\tDOGE: 103.36438928571431\tNUM BUYS: 1\tNUM SELLS: 1\n",
      "New Params: 0.1 9 0.1 0\n",
      "14.63%\tBTC: 110.9099897035715\tDOGE: 0.0\tNUM BUYS: 1\tNUM SELLS: 2\n",
      "New Params: 0.1 9 0.1 0\n",
      "15.24%\tBTC: 0\tDOGE: 114.90274933289994\tNUM BUYS: 2\tNUM SELLS: 2\n",
      "New Params: 0.1 9 0.1 0\n",
      "15.85%\tBTC: 118.88741253298024\tDOGE: 0.0\tNUM BUYS: 2\tNUM SELLS: 3\n",
      "New Params: 0.6 8 0.6 2\n",
      "16.46%\tBTC: 0\tDOGE: 114.36969085672698\tNUM BUYS: 3\tNUM SELLS: 3\n",
      "New Params: 0.0 9 0.0 0\n",
      "17.07%\tBTC: 0\tDOGE: 136.36386217532836\tNUM BUYS: 3\tNUM SELLS: 3\n",
      "New Params: 0.1 9 0.1 0\n",
      "17.68%\tBTC: 145.0163691720661\tDOGE: 0.0\tNUM BUYS: 3\tNUM SELLS: 4\n",
      "New Params: 0.1 9 0.1 0\n",
      "18.29%\tBTC: 145.0163691720661\tDOGE: 0.0\tNUM BUYS: 3\tNUM SELLS: 4\n",
      "New Params: 0.0 9 0.0 0\n",
      "18.90%\tBTC: 145.0163691720661\tDOGE: 0.0\tNUM BUYS: 3\tNUM SELLS: 4\n",
      "New Params: 0.1 9 0.1 0\n",
      "19.51%\tBTC: 0\tDOGE: 150.04532968871175\tNUM BUYS: 4\tNUM SELLS: 4\n",
      "New Params: 0.6 8 0.6 2\n",
      "20.11%\tBTC: 0\tDOGE: 144.8713528028941\tNUM BUYS: 4\tNUM SELLS: 4\n"
     ]
    },
    {
     "ename": "KeyboardInterrupt",
     "evalue": "",
     "output_type": "error",
     "traceback": [
      "\u001b[0;31m---------------------------------------------------------------------------\u001b[0m",
      "\u001b[0;31mKeyboardInterrupt\u001b[0m                         Traceback (most recent call last)",
      "\u001b[0;32m<ipython-input-5-1e1784a7cbc5>\u001b[0m in \u001b[0;36m<module>\u001b[0;34m\u001b[0m\n\u001b[1;32m     18\u001b[0m \u001b[0;34m\u001b[0m\u001b[0m\n\u001b[1;32m     19\u001b[0m \u001b[0;32mfor\u001b[0m \u001b[0mi\u001b[0m\u001b[0;34m,\u001b[0m \u001b[0mprice\u001b[0m \u001b[0;32min\u001b[0m \u001b[0menumerate\u001b[0m\u001b[0;34m(\u001b[0m\u001b[0mprices\u001b[0m\u001b[0;34m[\u001b[0m\u001b[0moptimization_period\u001b[0m\u001b[0;34m:\u001b[0m\u001b[0;34m]\u001b[0m\u001b[0;34m,\u001b[0m \u001b[0moptimization_period\u001b[0m\u001b[0;34m)\u001b[0m\u001b[0;34m:\u001b[0m\u001b[0;34m\u001b[0m\u001b[0;34m\u001b[0m\u001b[0m\n\u001b[0;32m---> 20\u001b[0;31m     \u001b[0mtime\u001b[0m\u001b[0;34m.\u001b[0m\u001b[0msleep\u001b[0m\u001b[0;34m(\u001b[0m\u001b[0;36m.001\u001b[0m\u001b[0;34m)\u001b[0m  \u001b[0;31m# simulate price flow speed, which is quite slow (1 price per second)\u001b[0m\u001b[0;34m\u001b[0m\u001b[0;34m\u001b[0m\u001b[0m\n\u001b[0m\u001b[1;32m     21\u001b[0m                       \u001b[0;31m# if we don't do this, optimization pools back up and everything slows down tremendously\u001b[0m\u001b[0;34m\u001b[0m\u001b[0;34m\u001b[0m\u001b[0;34m\u001b[0m\u001b[0m\n\u001b[1;32m     22\u001b[0m                       \u001b[0;31m#\u001b[0m\u001b[0;34m\u001b[0m\u001b[0;34m\u001b[0m\u001b[0;34m\u001b[0m\u001b[0m\n",
      "\u001b[0;31mKeyboardInterrupt\u001b[0m: "
     ]
    }
   ],
   "source": [
    "tr = EMA_trader()\n",
    "\n",
    "optimization_period = 5000\n",
    "\n",
    "# quantities of Doge/BTC\n",
    "# we want to have good params before starting to trade, so execute\n",
    "# this in a blocking fashion\n",
    "t0 = time.perf_counter()\n",
    "tr.optimize_multiprocess(prices[:optimization_period])\n",
    "\n",
    "doge, BTC = 100, 0\n",
    "bt = np.zeros_like(prices[optimization_period:])\n",
    "dg = np.zeros_like(prices[optimization_period:])\n",
    "\n",
    "prev_price = prices[optimization_period - 1]\n",
    "\n",
    "num_buys = num_sells = 0\n",
    "\n",
    "for i, price in enumerate(prices[optimization_period:], optimization_period):\n",
    "    time.sleep(.001)  # simulate price flow speed, which is quite slow (1 price per second)\n",
    "                      # if we don't do this, optimization pools back up and everything slows down tremendously\n",
    "                      # \n",
    "    percent_change = (price - prev_price) / prev_price\n",
    "    doge *= 1 + percent_change\n",
    "\n",
    "    action = tr.action(price)\n",
    "    if action == OrderSide.BUY:  # buy\n",
    "        if BTC > 0: \n",
    "            doge += .999 * BTC\n",
    "            BTC = 0\n",
    "            num_buys += 1\n",
    "    elif action == OrderSide.SELL:  # sell\n",
    "        if doge > 0:\n",
    "            BTC += 0.999 * doge\n",
    "            doge = 0\n",
    "            num_sells += 1\n",
    "\n",
    "    if BTC + doge < 1e-9:\n",
    "        print('Bust')\n",
    "        break\n",
    "\n",
    "    bt[i-optimization_period] = BTC\n",
    "    dg[i-optimization_period] = doge\n",
    "    prev_price = price\n",
    "\n",
    "    # why do this in 2 steps? because we could potentially throw the\n",
    "    # call to `tr.optimize` into its own thread, and update tr once it is done.\n",
    "    if (i-2) % optimization_period == 0:\n",
    "        tr.optimize_multiprocess_async(prices[i-optimization_period:i])\n",
    "        print(f\"{100 * (i - optimization_period) / (len(prices) - optimization_period):.2f}%\\tBTC: {BTC}\\tDOGE: {doge}\\tNUM BUYS: {num_buys}\\tNUM SELLS: {num_sells}\")"
   ]
  },
  {
   "cell_type": "code",
   "execution_count": null,
   "id": "308c070d-8163-4523-876a-c4b58d2128b3",
   "metadata": {},
   "outputs": [],
   "source": [
    "plt.plot((bt + dg)[:799000] / np.mean((bt + dg)[:799000]))"
   ]
  },
  {
   "cell_type": "code",
   "execution_count": null,
   "id": "2d3c4a97-8027-4f38-b6e7-a5f2e54505f7",
   "metadata": {},
   "outputs": [],
   "source": [
    "tr = EMA_trader()\n",
    "\n",
    "optimization_period = 5000\n",
    "\n",
    "# quantities of Doge/BTC\n",
    "# we want to have good params before starting to trade, so execute\n",
    "# this in a blocking fashion\n",
    "t0 = time.perf_counter()\n",
    "parameters = tr.optimize_multiprocess(prices[:optimization_period])\n",
    "tr.set_params(*parameters)\n",
    "\n",
    "doge, BTC = 100, 0\n",
    "bt = np.zeros_like(prices[optimization_period:])\n",
    "dg = np.zeros_like(prices[optimization_period:])\n",
    "\n",
    "prev_price = prices[optimization_period - 1]\n",
    "\n",
    "num_buys = num_sells = 0\n",
    "\n",
    "for i, price in enumerate(prices[optimization_period:], optimization_period):\n",
    "    time.sleep(.001)  # simulate price flow speed, which is quite slow (1 price per second)\n",
    "                      # if we don't do this, optimization pools back up and everything slows down tremendously\n",
    "                      # \n",
    "    percent_change = (price - prev_price) / prev_price\n",
    "    doge *= 1 + percent_change\n",
    "\n",
    "    action = tr.action(price)\n",
    "    if action == tr.OrderSide.BUY:  # buy\n",
    "        if BTC > 0: \n",
    "            doge += .999 * BTC\n",
    "            BTC = 0\n",
    "            num_buys += 1\n",
    "    elif action == tr.OrderSide.SELL:  # sell\n",
    "        if doge > 0:\n",
    "            BTC += 0.999 * doge\n",
    "            doge = 0\n",
    "            num_sells += 1\n",
    "\n",
    "    if BTC + doge < 1e-9:\n",
    "        print('Bust')\n",
    "        break\n",
    "\n",
    "    bt[i-optimization_period] = BTC\n",
    "    dg[i-optimization_period] = doge\n",
    "    prev_price = price\n",
    "\n",
    "    if (i-2) % optimization_period == 0:\n",
    "        t0 = time.perf_counter()\n",
    "        cb = tr.optimize_multiprocess_async(prices[i-optimization_period:i])\n",
    "\n",
    "        print(f\"{100 * (i - optimization_period) / (len(prices) - optimization_period):.2f}%: Optimized in {time.perf_counter() - t0:.2f} s\")\n",
    "        print(f\"BTC: {BTC}\\tDOGE: {doge}\\tNUM BUYS: {num_buys}\\tNUM SELLS: {num_sells}\")"
   ]
  }
 ],
 "metadata": {
  "kernelspec": {
   "display_name": "Python 3",
   "language": "python",
   "name": "python3"
  },
  "language_info": {
   "codemirror_mode": {
    "name": "ipython",
    "version": 3
   },
   "file_extension": ".py",
   "mimetype": "text/x-python",
   "name": "python",
   "nbconvert_exporter": "python",
   "pygments_lexer": "ipython3",
   "version": "3.9.5"
  }
 },
 "nbformat": 4,
 "nbformat_minor": 5
}
