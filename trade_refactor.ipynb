{
 "cells": [
  {
   "cell_type": "code",
   "execution_count": 17,
   "id": "62eab7bb-71ba-47a0-8a72-e4f0edee738d",
   "metadata": {},
   "outputs": [],
   "source": [
    "import numpy as np\n",
    "import pandas as pd\n",
    "import matplotlib.pyplot as plt\n",
    "\n",
    "from ema_trader import EMA_trader"
   ]
  },
  {
   "cell_type": "code",
   "execution_count": 8,
   "id": "2b4c0999-c7c2-4412-9909-b7c6c806b4f2",
   "metadata": {},
   "outputs": [],
   "source": [
    "history = pd.read_csv('./binance_DOGEBTC_1m.csv') # dogecoin data\n",
    "prices = history['open'].tolist()"
   ]
  },
  {
   "cell_type": "code",
   "execution_count": 19,
   "id": "11ad9230-b827-47b5-a917-d6cdd165ab73",
   "metadata": {},
   "outputs": [],
   "source": [
    "tr = EMA_trader()\n",
    "\n",
    "# quantities of Doge/BTC\n",
    "doge, BTC = 0, 100\n",
    "bt = np.zeros_like(prices)\n",
    "dg = np.zeros_like(prices)\n",
    "\n",
    "prev_price = prices[0]\n",
    "for i, price in enumerate(prices[1:], 1):\n",
    "\n",
    "    if (action := tr.action(price)) == 1:  # buy\n",
    "        if BTC > 0:\n",
    "            doge += .999 * BTC / price\n",
    "            BTC = 0\n",
    "        \n",
    "    elif action == -1:  # sell\n",
    "        if doge > 0:\n",
    "            BTC += 0.999 * doge * price\n",
    "            doge = 0\n",
    "\n",
    "    bt[i] = BTC\n",
    "    dg[i] = doge"
   ]
  }
 ],
 "metadata": {
  "kernelspec": {
   "display_name": "Python 3",
   "language": "python",
   "name": "python3"
  },
  "language_info": {
   "codemirror_mode": {
    "name": "ipython",
    "version": 3
   },
   "file_extension": ".py",
   "mimetype": "text/x-python",
   "name": "python",
   "nbconvert_exporter": "python",
   "pygments_lexer": "ipython3",
   "version": "3.9.5"
  }
 },
 "nbformat": 4,
 "nbformat_minor": 5
}
