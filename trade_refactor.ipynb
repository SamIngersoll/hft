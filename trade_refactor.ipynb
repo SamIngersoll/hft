{
 "cells": [
  {
   "cell_type": "code",
   "execution_count": 1,
   "id": "62eab7bb-71ba-47a0-8a72-e4f0edee738d",
   "metadata": {},
   "outputs": [],
   "source": [
    "import time\n",
    "import numpy as np\n",
    "import pandas as pd\n",
    "import matplotlib.pyplot as plt\n",
    "\n",
    "from ema_trader import EMA_trader"
   ]
  },
  {
   "cell_type": "code",
   "execution_count": 2,
   "id": "2b4c0999-c7c2-4412-9909-b7c6c806b4f2",
   "metadata": {},
   "outputs": [],
   "source": [
    "history = pd.read_csv('./binance_DOGEBTC_1m.csv') # dogecoin data\n",
    "history = history.iloc[0:80000]\n",
    "prices = history['open'].tolist()"
   ]
  },
  {
   "cell_type": "code",
   "execution_count": 3,
   "id": "9c94bbe6-4367-4a6a-b54c-0c910b9ad80a",
   "metadata": {},
   "outputs": [
    {
     "data": {
      "text/plain": [
       "[<matplotlib.lines.Line2D at 0x13006d1f0>]"
      ]
     },
     "execution_count": 3,
     "metadata": {},
     "output_type": "execute_result"
    },
    {
     "data": {
      "image/png": "[encoded data removed]",
      "text/plain": [
       "<Figure size 432x288 with 1 Axes>"
      ]
     },
     "metadata": {
      "needs_background": "light"
     },
     "output_type": "display_data"
    }
   ],
   "source": [
    "plt.plot(prices)"
   ]
  },
  {
   "cell_type": "code",
   "execution_count": null,
   "id": "11ad9230-b827-47b5-a917-d6cdd165ab73",
   "metadata": {},
   "outputs": [
    {
     "name": "stdout",
     "output_type": "stream",
     "text": [
      "269.584 (0.0, 0, 0.7, 3)\n",
      "36907606.016 (0.0, 0, 0.9, 1)\n",
      "6.67%: Optimized in 27.52 s\n",
      "BTC: 0\tDOGE: 62.042426717079124\tNUM BUYS: 7\tNUM SELLS: 7\n",
      "10025087.388 (0.0, 0, 0.1, 6)\n",
      "13.33%: Optimized in 26.98 s\n",
      "BTC: 0\tDOGE: 49.77130230320232\tNUM BUYS: 10\tNUM SELLS: 10\n",
      "1684582.829 (0.0, 0, 0.1, 1)\n",
      "20.00%: Optimized in 27.74 s\n",
      "BTC: 0\tDOGE: 51.54884881403097\tNUM BUYS: 10\tNUM SELLS: 10\n",
      "137118891.083 (0.0, 0, 0.1, 6)\n",
      "26.67%: Optimized in 28.01 s\n",
      "BTC: 0\tDOGE: 51.548848814030976\tNUM BUYS: 10\tNUM SELLS: 10\n",
      "177086.492 (0.0, 0, 0.1, 6)\n",
      "33.33%: Optimized in 29.78 s\n",
      "BTC: 0\tDOGE: 51.548848814030976\tNUM BUYS: 10\tNUM SELLS: 10\n",
      "46385410.945 (0.0, 0, 0.9, 6)\n",
      "40.00%: Optimized in 29.83 s\n",
      "BTC: 0\tDOGE: 53.32639532485963\tNUM BUYS: 10\tNUM SELLS: 10\n",
      "423.083 (0.0, 0, 0.3, 0)\n",
      "46.67%: Optimized in 29.35 s\n",
      "BTC: 47.94576203658131\tDOGE: 0.0\tNUM BUYS: 10\tNUM SELLS: 11\n",
      "157388.274 (0.0, 0, 0.2, 8)\n",
      "53.33%: Optimized in 29.39 s\n",
      "BTC: 47.94576203658131\tDOGE: 0.0\tNUM BUYS: 10\tNUM SELLS: 11\n",
      "153285.171 (0.0, 0, 0.1, 5)\n",
      "60.00%: Optimized in 27.66 s\n",
      "BTC: 47.94576203658131\tDOGE: 0.0\tNUM BUYS: 10\tNUM SELLS: 11\n"
     ]
    }
   ],
   "source": [
    "tr = EMA_trader()\n",
    "\n",
    "optimization_period = 5000\n",
    "\n",
    "# quantities of Doge/BTC\n",
    "parameters = tr.optimize(prices[:optimization_period])\n",
    "tr.set_params(*parameters)\n",
    "\n",
    "doge, BTC = 50, 50\n",
    "bt = np.zeros_like(prices[optimization_period:])\n",
    "dg = np.zeros_like(prices[optimization_period:])\n",
    "\n",
    "prev_price = prices[optimization_period - 1]\n",
    "\n",
    "num_buys = num_sells = 0\n",
    "\n",
    "for i, price in enumerate(prices[optimization_period:], optimization_period):\n",
    "    percent_change = (price - prev_price) / prev_price\n",
    "    doge *= 1 + percent_change\n",
    "\n",
    "    action = tr.action(price)\n",
    "    if action == tr.OrderSide.BUY:  # buy\n",
    "        if BTC > 0:\n",
    "            doge += .999 * BTC\n",
    "            BTC = 0\n",
    "            num_buys += 1\n",
    "    elif action == tr.OrderSide.SELL:  # sell\n",
    "        if doge > 0:\n",
    "            BTC += 0.999 * doge\n",
    "            doge = 0\n",
    "            num_sells += 1\n",
    "\n",
    "    if BTC + doge < 1e-9:\n",
    "        print('Bust')\n",
    "        break\n",
    "\n",
    "    bt[i-1] = BTC\n",
    "    dg[i-1] = doge\n",
    "    prev_price = price\n",
    "\n",
    "    # why do this in 2 steps? because we could potentially throw the\n",
    "    # call to `tr.optimize` into its own thread, and update tr once it is done.\n",
    "    if (i+1) % optimization_period == 0:\n",
    "        t0 = time.perf_counter()\n",
    "        parameters = tr.optimize(prices[i-optimization_period:i])\n",
    "        tr.set_params(*parameters)\n",
    "        print(f\"{100 * (i - optimization_period) / (len(prices) - optimization_period):.2f}%: Optimized in {time.perf_counter() - t0:.2f} s\")\n",
    "        print(f\"BTC: {BTC}\\tDOGE: {doge}\\tNUM BUYS: {num_buys}\\tNUM SELLS: {num_sells}\")"
   ]
  },
  {
   "cell_type": "code",
   "execution_count": null,
   "id": "9b4203e6-c3a6-4d1e-82fe-99038417a272",
   "metadata": {},
   "outputs": [],
   "source": [
    "plt.plot(bt + dg)"
   ]
  }
 ],
 "metadata": {
  "kernelspec": {
   "display_name": "Python 3",
   "language": "python",
   "name": "python3"
  },
  "language_info": {
   "codemirror_mode": {
    "name": "ipython",
    "version": 3
   },
   "file_extension": ".py",
   "mimetype": "text/x-python",
   "name": "python",
   "nbconvert_exporter": "python",
   "pygments_lexer": "ipython3",
   "version": "3.9.5"
  }
 },
 "nbformat": 4,
 "nbformat_minor": 5
}
