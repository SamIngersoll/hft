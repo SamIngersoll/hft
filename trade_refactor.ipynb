{
 "cells": [
  {
   "cell_type": "code",
   "execution_count": 1,
   "id": "62eab7bb-71ba-47a0-8a72-e4f0edee738d",
   "metadata": {},
   "outputs": [],
   "source": [
    "import time\n",
    "import numpy as np\n",
    "import pandas as pd\n",
    "import matplotlib.pyplot as plt\n",
    "\n",
    "from ema_trader import EMA_trader"
   ]
  },
  {
   "cell_type": "code",
   "execution_count": 2,
   "id": "2b4c0999-c7c2-4412-9909-b7c6c806b4f2",
   "metadata": {},
   "outputs": [],
   "source": [
    "history = pd.read_csv('./binance_DOGEBTC_1m.csv') # dogecoin data\n",
    "history = history.iloc[0:80000]\n",
    "prices = history['open'].tolist()"
   ]
  },
  {
   "cell_type": "code",
   "execution_count": 3,
   "id": "9c94bbe6-4367-4a6a-b54c-0c910b9ad80a",
   "metadata": {},
   "outputs": [
    {
     "data": {
      "text/plain": [
       "[<matplotlib.lines.Line2D at 0x12c8f4c40>]"
      ]
     },
     "execution_count": 3,
     "metadata": {},
     "output_type": "execute_result"
    },
    {
     "data": {
      "image/png": "[encoded data removed]",
      "text/plain": [
       "<Figure size 432x288 with 1 Axes>"
      ]
     },
     "metadata": {
      "needs_background": "light"
     },
     "output_type": "display_data"
    }
   ],
   "source": [
    "plt.plot(prices)"
   ]
  },
  {
   "cell_type": "code",
   "execution_count": 4,
   "id": "11ad9230-b827-47b5-a917-d6cdd165ab73",
   "metadata": {},
   "outputs": [
    {
     "name": "stdout",
     "output_type": "stream",
     "text": [
      "103.600 (0.1, 9, 0.0, 0)\n",
      "103.600 (0.1, 9, 0.0, 0)\n",
      "0.00%: Optimized in 10.00 s\n",
      "BTC: 50\tDOGE: 50.0\tNUM BUYS: 0\tNUM SELLS: 0\n",
      "107.300 (0.6, 8, 0.2, 2)\n",
      "14.29%: Optimized in 10.57 s\n",
      "BTC: 125.3029934192036\tDOGE: 0.0\tNUM BUYS: 3\tNUM SELLS: 4\n",
      "103.468 (0.1, 9, 0.0, 0)\n",
      "28.57%: Optimized in 13.09 s\n",
      "BTC: 125.3029934192036\tDOGE: 0.0\tNUM BUYS: 3\tNUM SELLS: 4\n",
      "100.000 (0.0, 9, 0.0, 0)\n",
      "42.86%: Optimized in 13.26 s\n",
      "BTC: 0\tDOGE: 152.3594863933636\tNUM BUYS: 8\tNUM SELLS: 8\n",
      "104.063 (0.2, 5, 0.0, 0)\n",
      "57.15%: Optimized in 13.63 s\n",
      "BTC: 0\tDOGE: 141.07359851237365\tNUM BUYS: 8\tNUM SELLS: 8\n",
      "103.896 (0.1, 9, 0.0, 0)\n",
      "71.43%: Optimized in 13.50 s\n",
      "BTC: 0\tDOGE: 141.0735985123736\tNUM BUYS: 8\tNUM SELLS: 8\n",
      "103.896 (0.1, 9, 0.0, 0)\n",
      "85.72%: Optimized in 13.76 s\n",
      "BTC: 0\tDOGE: 146.71654245286854\tNUM BUYS: 8\tNUM SELLS: 8\n"
     ]
    }
   ],
   "source": [
    "tr = EMA_trader()\n",
    "\n",
    "optimization_period = 10000\n",
    "\n",
    "# quantities of Doge/BTC\n",
    "parameters = tr.optimize_threaded(prices[:optimization_period])\n",
    "tr.set_params(*parameters)\n",
    "\n",
    "doge, BTC = 50, 50\n",
    "bt = np.zeros_like(prices[optimization_period:])\n",
    "dg = np.zeros_like(prices[optimization_period:])\n",
    "\n",
    "prev_price = prices[optimization_period - 1]\n",
    "\n",
    "num_buys = num_sells = 0\n",
    "\n",
    "for i, price in enumerate(prices[optimization_period:], optimization_period):\n",
    "    percent_change = (price - prev_price) / prev_price\n",
    "    doge *= 1 + percent_change\n",
    "\n",
    "    action = tr.action(price)\n",
    "    if action == tr.OrderSide.BUY:  # buy\n",
    "        if BTC > 0: \n",
    "            doge += .999 * BTC\n",
    "            BTC = 0\n",
    "            num_buys += 1\n",
    "    elif action == tr.OrderSide.SELL:  # sell\n",
    "        if doge > 0:\n",
    "            BTC += 0.999 * doge\n",
    "            doge = 0\n",
    "            num_sells += 1\n",
    "\n",
    "    if BTC + doge < 1e-9:\n",
    "        print('Bust')\n",
    "        break\n",
    "\n",
    "    bt[i-optimization_period] = BTC\n",
    "    dg[i-optimization_period] = doge\n",
    "    prev_price = price\n",
    "\n",
    "    # why do this in 2 steps? because we could potentially throw the\n",
    "    # call to `tr.optimize` into its own thread, and update tr once it is done.\n",
    "    if (i-2) % optimization_period == 0:\n",
    "        t0 = time.perf_counter()\n",
    "        parameters = tr.optimize_threaded(prices[i-optimization_period:i])\n",
    "        tr.set_params(*parameters)\n",
    "        print(f\"{100 * (i - optimization_period) / (len(prices) - optimization_period):.2f}%: Optimized in {time.perf_counter() - t0:.2f} s\")\n",
    "        print(f\"BTC: {BTC}\\tDOGE: {doge}\\tNUM BUYS: {num_buys}\\tNUM SELLS: {num_sells}\")"
   ]
  },
  {
   "cell_type": "code",
   "execution_count": 6,
   "id": "9b4203e6-c3a6-4d1e-82fe-99038417a272",
   "metadata": {},
   "outputs": [
    {
     "data": {
      "text/plain": [
       "[<matplotlib.lines.Line2D at 0x12cacbcd0>]"
      ]
     },
     "execution_count": 6,
     "metadata": {},
     "output_type": "execute_result"
    },
    {
     "data": {
      "image/png": "[encoded data removed]",
      "text/plain": [
       "<Figure size 432x288 with 1 Axes>"
      ]
     },
     "metadata": {
      "needs_background": "light"
     },
     "output_type": "display_data"
    }
   ],
   "source": [
    "plt.plot(bt + dg)"
   ]
  },
  {
   "cell_type": "code",
   "execution_count": null,
   "id": "05faac99-4c3a-4118-9db5-ad0ae6084ce7",
   "metadata": {},
   "outputs": [],
   "source": []
  }
 ],
 "metadata": {
  "kernelspec": {
   "display_name": "Python 3",
   "language": "python",
   "name": "python3"
  },
  "language_info": {
   "codemirror_mode": {
    "name": "ipython",
    "version": 3
   },
   "file_extension": ".py",
   "mimetype": "text/x-python",
   "name": "python",
   "nbconvert_exporter": "python",
   "pygments_lexer": "ipython3",
   "version": "3.9.5"
  }
 },
 "nbformat": 4,
 "nbformat_minor": 5
}
