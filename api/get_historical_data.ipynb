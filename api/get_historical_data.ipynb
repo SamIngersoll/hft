{
 "cells": [
  {
   "cell_type": "code",
   "execution_count": null,
   "id": "6927d538",
   "metadata": {},
   "outputs": [],
   "source": [
    "import toml, time\n",
    "import numpy as np\n",
    "import pandas as pd\n",
    "import matplotlib.pyplot as plt\n",
    "\n",
    "from typing import Dict, Optional\n",
    "from binance.client import Client\n",
    "from datetime import datetime, timezone\n",
    "\n",
    "plt.rcParams[\"figure.figsize\"] = (20,10)\n",
    "plt.rcParams.update({'font.size': 18})"
   ]
  },
  {
   "cell_type": "code",
   "execution_count": null,
   "id": "239e9cc6",
   "metadata": {},
   "outputs": [],
   "source": [
    "cfg = toml.load(\"configuration.toml\")\n",
    "pkey = cfg[\"auth\"][\"pkey\"]\n",
    "skey = cfg[\"auth\"][\"skey\"]\n",
    "\n",
    "client = Client(pkey, skey)"
   ]
  },
  {
   "cell_type": "code",
   "execution_count": null,
   "id": "298079c6",
   "metadata": {
    "tags": []
   },
   "outputs": [],
   "source": [
    "# Number of trades to get\n",
    "N = 1_000_000\n",
    "\n",
    "# Get initial set of trades, starting from now\n",
    "historical_trades = client.get_historical_trades(symbol=\"DOGEUSDT\")\n",
    "\n",
    "# min_id from the trades\n",
    "start_id = historical_trades[0][\"id\"]\n",
    "\n",
    "# Putting everything into a pandas dataframe\n",
    "df = pd.DataFrame.from_records(historical_trades)\n",
    "\n",
    "n = 500\n",
    "\n",
    "# So we dont hit the rate limit of 1200 / min\n",
    "min_period = .05\n",
    "norm_period = .5\n",
    "\n",
    "t0 = time.perf_counter()\n",
    "t = t0\n",
    "try:\n",
    "    while n < N:\n",
    "        curr_id = start_id - n\n",
    "\n",
    "        trades_chunk = client.get_historical_trades(symbol=\"DOGEUSDT\", fromId=str(curr_id))\n",
    "        df = pd.concat([df, pd.DataFrame.from_records(trades_chunk)], ignore_index=True)\n",
    "\n",
    "        n += 500\n",
    "\n",
    "        # if we looped faster than the period for our rate limiter (.05 s minimum), wait until\n",
    "        # we slowed down enough like GLB\n",
    "        t += norm_period\n",
    "        time.sleep(max(0, t - time.perf_counter()))\n",
    "        print(curr_id % 10000)\n",
    "except Exception as e:\n",
    "    print(e)\n",
    "    print(f\"execution time: {time.perf_counter() - t0}\")"
   ]
  },
  {
   "cell_type": "code",
   "execution_count": null,
   "id": "4472616c",
   "metadata": {},
   "outputs": [],
   "source": [
    "# Sort the DF by id (ie chronological) and reset the index so pandas index ordering fits the data\n",
    "df.sort_values(by=[\"id\"], inplace=True)\n",
    "df.reset_index(drop=True, inplace=True)"
   ]
  },
  {
   "cell_type": "code",
   "execution_count": null,
   "id": "00167cc7",
   "metadata": {},
   "outputs": [],
   "source": [
    "df.to_pickle(f\"./previous_1e6_trades_{time.time()}.pkl\")"
   ]
  },
  {
   "cell_type": "code",
   "execution_count": null,
   "id": "7d938d12",
   "metadata": {},
   "outputs": [],
   "source": [
    "trade_datetimes = sorted([datetime.fromtimestamp(timestamp / 1000, timezone.utc) for timestamp in df[\"time\"]])\n",
    "trade_diffs = np.diff(sorted(df[\"time\"]))"
   ]
  }
 ],
 "metadata": {
  "kernelspec": {
   "display_name": "Python 3",
   "language": "python",
   "name": "python3"
  },
  "language_info": {
   "codemirror_mode": {
    "name": "ipython",
    "version": 3
   },
   "file_extension": ".py",
   "mimetype": "text/x-python",
   "name": "python",
   "nbconvert_exporter": "python",
   "pygments_lexer": "ipython3",
   "version": "3.9.4"
  }
 },
 "nbformat": 4,
 "nbformat_minor": 5
}
