{
 "cells": [
  {
   "cell_type": "code",
   "execution_count": 1,
   "id": "6927d538",
   "metadata": {},
   "outputs": [],
   "source": [
    "import toml, time\n",
    "import numpy as np\n",
    "import pandas as pd\n",
    "import matplotlib.pyplot as plt\n",
    "\n",
    "from typing import Dict, Optional\n",
    "from binance.client import Client\n",
    "from datetime import datetime, timezone\n",
    "\n",
    "plt.rcParams[\"figure.figsize\"] = (20,10)\n",
    "plt.rcParams.update({'font.size': 18})"
   ]
  },
  {
   "cell_type": "code",
   "execution_count": 2,
   "id": "239e9cc6",
   "metadata": {},
   "outputs": [],
   "source": [
    "cfg = toml.load(\"configuration.toml\")\n",
    "pkey = cfg[\"auth\"][\"pkey\"]\n",
    "skey = cfg[\"auth\"][\"skey\"]\n",
    "\n",
    "client = Client(pkey, skey)"
   ]
  },
  {
   "cell_type": "code",
   "execution_count": 8,
   "id": "1a262852-0fe4-434c-95cd-a5c905740ceb",
   "metadata": {
    "tags": []
   },
   "outputs": [
    {
     "data": {
      "text/plain": [
       "[]"
      ]
     },
     "execution_count": 8,
     "metadata": {},
     "output_type": "execute_result"
    }
   ],
   "source": [
    "client.get_open_orders(symbol='DOGEUSDT')"
   ]
  },
  {
   "cell_type": "code",
   "execution_count": null,
   "id": "a4653a8b-526c-4db6-ac9f-a2139fc8bc77",
   "metadata": {},
   "outputs": [],
   "source": [
    "\"\"\"\n",
    "[\n",
    "    1499040000000,      // Open time\n",
    "    \"0.01634790\",       // Open\n",
    "    \"0.80000000\",       // High\n",
    "    \"0.01575800\",       // Low\n",
    "    \"0.01577100\",       // Close\n",
    "    \"148976.11427815\",  // Volume\n",
    "    1499644799999,      // Close time\n",
    "    \"2434.19055334\",    // Quote asset volume\n",
    "    308,                // Number of trades\n",
    "    \"1756.87402397\",    // Taker buy base asset volume\n",
    "    \"28.46694368\",      // Taker buy quote asset volume\n",
    "    \"17928899.62484339\" // Ignore\n",
    "]\n",
    "\"\"\""
   ]
  },
  {
   "cell_type": "code",
   "execution_count": 18,
   "id": "d25cfcb4-253a-413c-931e-2fbd3ba92352",
   "metadata": {
    "tags": []
   },
   "outputs": [
    {
     "ename": "AttributeError",
     "evalue": "type object 'Client' has no attribute 'KLINE_INTERVAL_1SECOND'",
     "output_type": "error",
     "traceback": [
      "\u001b[0;31m---------------------------------------------------------------------------\u001b[0m",
      "\u001b[0;31mAttributeError\u001b[0m                            Traceback (most recent call last)",
      "\u001b[0;32m<ipython-input-18-bd744e0d2348>\u001b[0m in \u001b[0;36m<module>\u001b[0;34m\u001b[0m\n\u001b[0;32m----> 1\u001b[0;31m \u001b[0mdata\u001b[0m \u001b[0;34m=\u001b[0m \u001b[0mclient\u001b[0m\u001b[0;34m.\u001b[0m\u001b[0mget_historical_klines\u001b[0m\u001b[0;34m(\u001b[0m\u001b[0;34m\"DOGEUSDT\"\u001b[0m\u001b[0;34m,\u001b[0m \u001b[0mClient\u001b[0m\u001b[0;34m.\u001b[0m\u001b[0mKLINE_INTERVAL_1SECOND\u001b[0m\u001b[0;34m,\u001b[0m \u001b[0;34m\"1 day ago UTC\"\u001b[0m\u001b[0;34m,\u001b[0m \u001b[0mlimit\u001b[0m\u001b[0;34m=\u001b[0m\u001b[0;36m1000\u001b[0m\u001b[0;34m)\u001b[0m\u001b[0;34m\u001b[0m\u001b[0;34m\u001b[0m\u001b[0m\n\u001b[0m\u001b[1;32m      2\u001b[0m \u001b[0;31m# small_data = [(d[0], float(d[]))]\u001b[0m\u001b[0;34m\u001b[0m\u001b[0;34m\u001b[0m\u001b[0;34m\u001b[0m\u001b[0m\n\u001b[1;32m      3\u001b[0m \u001b[0mdata\u001b[0m\u001b[0;34m\u001b[0m\u001b[0;34m\u001b[0m\u001b[0m\n",
      "\u001b[0;31mAttributeError\u001b[0m: type object 'Client' has no attribute 'KLINE_INTERVAL_1SECOND'"
     ]
    }
   ],
   "source": [
    "data = client.get_historical_klines(\"DOGEUSDT\", Client.KLINE_INTERVAL_1SECOND, \"1 day ago UTC\", limit=1000)\n",
    "# small_data = [(d[0], float(d[]))]\n",
    "data"
   ]
  },
  {
   "cell_type": "code",
   "execution_count": null,
   "id": "298079c6",
   "metadata": {
    "tags": []
   },
   "outputs": [],
   "source": [
    "# Number of trades to get\n",
    "N = 1_000_000\n",
    "\n",
    "# Get initial set of trades, starting from now\n",
    "historical_trades = client.get_historical_trades(symbol=\"DOGEUSDT\")\n",
    "\n",
    "# min_id from the trades\n",
    "start_id = historical_trades[0][\"id\"]\n",
    "\n",
    "# Putting everything into a pandas dataframe\n",
    "df = pd.DataFrame.from_records(historical_trades)\n",
    "\n",
    "n = 500\n",
    "\n",
    "# So we dont hit the rate limit of 1200 / min\n",
    "min_period = .05\n",
    "norm_period = .5\n",
    "\n",
    "t0 = time.perf_counter()\n",
    "t = t0\n",
    "try:\n",
    "    while n < N:\n",
    "        curr_id = start_id - n\n",
    "\n",
    "        trades_chunk = client.get_historical_trades(symbol=\"DOGEUSDT\", fromId=str(curr_id))\n",
    "        df = pd.concat([df, pd.DataFrame.from_records(trades_chunk)], ignore_index=True)\n",
    "\n",
    "        n += 500\n",
    "\n",
    "        # if we looped faster than the period for our rate limiter (.05 s minimum), wait until\n",
    "        # we slowed down enough like GLB\n",
    "        t += norm_period\n",
    "        time.sleep(max(0, t - time.perf_counter()))\n",
    "        print(curr_id % 10000)\n",
    "except Exception as e:\n",
    "    print(e)\n",
    "    print(f\"execution time: {time.perf_counter() - t0}\")"
   ]
  },
  {
   "cell_type": "code",
   "execution_count": null,
   "id": "4472616c",
   "metadata": {},
   "outputs": [],
   "source": [
    "# Sort the DF by id (ie chronological) and reset the index so pandas index ordering fits the data\n",
    "df.sort_values(by=[\"id\"], inplace=True)\n",
    "df.reset_index(drop=True, inplace=True)"
   ]
  },
  {
   "cell_type": "code",
   "execution_count": null,
   "id": "00167cc7",
   "metadata": {},
   "outputs": [],
   "source": [
    "df.to_pickle(f\"./previous_1e6_trades_{time.time()}.pkl\")"
   ]
  },
  {
   "cell_type": "code",
   "execution_count": null,
   "id": "7d938d12",
   "metadata": {},
   "outputs": [],
   "source": [
    "trade_datetimes = sorted([datetime.fromtimestamp(timestamp / 1000, timezone.utc) for timestamp in df[\"time\"]])\n",
    "trade_diffs = np.diff(sorted(df[\"time\"]))"
   ]
  }
 ],
 "metadata": {
  "kernelspec": {
   "display_name": "Python 3",
   "language": "python",
   "name": "python3"
  },
  "language_info": {
   "codemirror_mode": {
    "name": "ipython",
    "version": 3
   },
   "file_extension": ".py",
   "mimetype": "text/x-python",
   "name": "python",
   "nbconvert_exporter": "python",
   "pygments_lexer": "ipython3",
   "version": "3.9.5"
  }
 },
 "nbformat": 4,
 "nbformat_minor": 5
}
