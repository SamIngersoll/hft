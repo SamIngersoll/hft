{
 "cells": [
  {
   "cell_type": "code",
   "execution_count": 2,
   "id": "2f4a0446",
   "metadata": {},
   "outputs": [],
   "source": [
    "import time\n",
    "import toml\n",
    "import numpy as np\n",
    "import matplotlib.pyplot as plt\n",
    "\n",
    "from typing import Dict, Optional\n",
    "from binance.client import Client\n",
    "from datetime import datetime, timezone\n",
    "\n",
    "from filter_conform import get_exchange_info_for_symbol\n",
    "\n",
    "plt.rcParams[\"figure.figsize\"] = (20,10)\n",
    "plt.rcParams.update({'font.size': 18})"
   ]
  },
  {
   "cell_type": "code",
   "execution_count": 3,
   "id": "4373bbf8",
   "metadata": {},
   "outputs": [],
   "source": [
    "cfg = toml.load(\"configuration.toml\")\n",
    "pkey = cfg[\"auth\"][\"pkey\"]\n",
    "skey = cfg[\"auth\"][\"skey\"]\n",
    "\n",
    "client = Client(pkey, skey)"
   ]
  },
  {
   "cell_type": "markdown",
   "id": "38addafe",
   "metadata": {},
   "source": [
    "## How to buy/sell a coin\n",
    "\n",
    "Before anything else, the order has to conform to order filters, which can be retrieved "
   ]
  },
  {
   "cell_type": "code",
   "execution_count": 44,
   "id": "c799f657",
   "metadata": {},
   "outputs": [
    {
     "data": {
      "text/plain": [
       "{'symbol': 'DOGEBTC',\n",
       " 'status': 'TRADING',\n",
       " 'baseAsset': 'DOGE',\n",
       " 'baseAssetPrecision': 8,\n",
       " 'quoteAsset': 'BTC',\n",
       " 'quotePrecision': 8,\n",
       " 'quoteAssetPrecision': 8,\n",
       " 'baseCommissionPrecision': 8,\n",
       " 'quoteCommissionPrecision': 8,\n",
       " 'orderTypes': ['LIMIT',\n",
       "  'LIMIT_MAKER',\n",
       "  'MARKET',\n",
       "  'STOP_LOSS_LIMIT',\n",
       "  'TAKE_PROFIT_LIMIT'],\n",
       " 'icebergAllowed': True,\n",
       " 'ocoAllowed': True,\n",
       " 'quoteOrderQtyMarketAllowed': True,\n",
       " 'isSpotTradingAllowed': True,\n",
       " 'isMarginTradingAllowed': True,\n",
       " 'filters': [{'filterType': 'PRICE_FILTER',\n",
       "   'minPrice': '0.00000001',\n",
       "   'maxPrice': '1000.00000000',\n",
       "   'tickSize': '0.00000001'},\n",
       "  {'filterType': 'PERCENT_PRICE',\n",
       "   'multiplierUp': '5',\n",
       "   'multiplierDown': '0.2',\n",
       "   'avgPriceMins': 5},\n",
       "  {'filterType': 'LOT_SIZE',\n",
       "   'minQty': '1.00000000',\n",
       "   'maxQty': '90000000.00000000',\n",
       "   'stepSize': '1.00000000'},\n",
       "  {'filterType': 'MIN_NOTIONAL',\n",
       "   'minNotional': '0.00010000',\n",
       "   'applyToMarket': True,\n",
       "   'avgPriceMins': 5},\n",
       "  {'filterType': 'ICEBERG_PARTS', 'limit': 10},\n",
       "  {'filterType': 'MARKET_LOT_SIZE',\n",
       "   'minQty': '0.00000000',\n",
       "   'maxQty': '19785596.74339360',\n",
       "   'stepSize': '0.00000000'},\n",
       "  {'filterType': 'MAX_NUM_ORDERS', 'maxNumOrders': 200},\n",
       "  {'filterType': 'MAX_NUM_ALGO_ORDERS', 'maxNumAlgoOrders': 5}],\n",
       " 'permissions': ['SPOT', 'MARGIN']}"
      ]
     },
     "execution_count": 44,
     "metadata": {},
     "output_type": "execute_result"
    }
   ],
   "source": [
    "from binance.client import Client\n",
    "\n",
    "get_exchange_info_for_symbol(client, \"DOGEBTC\")"
   ]
  },
  {
   "cell_type": "markdown",
   "id": "99cd63f4",
   "metadata": {},
   "source": [
    "Important things in the exchange info:\n",
    "- baseAssetPrecision / quoteAssetPrecision - neet to format orders to that precision\n",
    "- filters - must conform order to filters\n",
    "\n",
    "For constructing orders: I assume we have the desired quantity of USD / crypto that we want to buy or sell. For simplicity, take this to be a limit order at first. We can check that the order would pass the filters before sending it to binance. This would allow us to, in the future, modify orders before sending them in."
   ]
  },
  {
   "cell_type": "code",
   "execution_count": 41,
   "id": "9e1fb282",
   "metadata": {},
   "outputs": [
    {
     "data": {
      "text/plain": [
       "{'symbol': 'DOGEBTC',\n",
       " 'priceChange': '0.00000124',\n",
       " 'priceChangePercent': '11.912',\n",
       " 'weightedAvgPrice': '0.00001065',\n",
       " 'prevClosePrice': '0.00001041',\n",
       " 'lastPrice': '0.00001165',\n",
       " 'lastQty': '345.00000000',\n",
       " 'bidPrice': '0.00001165',\n",
       " 'bidQty': '1556.00000000',\n",
       " 'askPrice': '0.00001166',\n",
       " 'askQty': '90454.00000000',\n",
       " 'openPrice': '0.00001041',\n",
       " 'highPrice': '0.00001196',\n",
       " 'lowPrice': '0.00000921',\n",
       " 'volume': '1700221573.00000000',\n",
       " 'quoteVolume': '18111.16549559',\n",
       " 'openTime': 1620337565561,\n",
       " 'closeTime': 1620423965561,\n",
       " 'firstId': 28137804,\n",
       " 'lastId': 28925954,\n",
       " 'count': 788151}"
      ]
     },
     "execution_count": 41,
     "metadata": {},
     "output_type": "execute_result"
    }
   ],
   "source": [
    "client.get_ticker(symbol=\"DOGEBTC\")"
   ]
  },
  {
   "cell_type": "code",
   "execution_count": 39,
   "id": "4709409e",
   "metadata": {},
   "outputs": [
    {
     "data": {
      "text/plain": [
       "{'symbol': 'DOGEBTC',\n",
       " 'orderId': 150025852,\n",
       " 'orderListId': -1,\n",
       " 'clientOrderId': '1XURo8knZRagtPYHMVXn5c',\n",
       " 'transactTime': 1620423275508,\n",
       " 'price': '0.00000000',\n",
       " 'origQty': '9.00000000',\n",
       " 'executedQty': '9.00000000',\n",
       " 'cummulativeQuoteQty': '0.00010278',\n",
       " 'status': 'FILLED',\n",
       " 'timeInForce': 'GTC',\n",
       " 'type': 'MARKET',\n",
       " 'side': 'BUY',\n",
       " 'fills': [{'price': '0.00001142',\n",
       "   'qty': '9.00000000',\n",
       "   'commission': '0.00900000',\n",
       "   'commissionAsset': 'DOGE',\n",
       "   'tradeId': 28918176}]}"
      ]
     },
     "execution_count": 39,
     "metadata": {},
     "output_type": "execute_result"
    }
   ],
   "source": [
    "client.create_order(\n",
    "    symbol=\"DOGEBTC\",\n",
    "    quantity=9.\n",
    ")"
   ]
  }
 ],
 "metadata": {
  "kernelspec": {
   "display_name": "Python 3",
   "language": "python",
   "name": "python3"
  },
  "language_info": {
   "codemirror_mode": {
    "name": "ipython",
    "version": 3
   },
   "file_extension": ".py",
   "mimetype": "text/x-python",
   "name": "python",
   "nbconvert_exporter": "python",
   "pygments_lexer": "ipython3",
   "version": "3.9.4"
  }
 },
 "nbformat": 4,
 "nbformat_minor": 5
}
