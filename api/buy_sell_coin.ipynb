{
 "cells": [
  {
   "cell_type": "code",
   "execution_count": 5,
   "id": "ae6e3d2d",
   "metadata": {},
   "outputs": [],
   "source": [
    "import time\n",
    "import toml\n",
    "import numpy as np\n",
    "import matplotlib.pyplot as plt\n",
    "\n",
    "from typing import Dict, Optional\n",
    "from binance.client import Client\n",
    "from datetime import datetime, timezone\n",
    "\n",
    "from filter_conform import get_exchange_info_for_symbol\n",
    "\n",
    "plt.rcParams[\"figure.figsize\"] = (20,10)\n",
    "plt.rcParams.update({'font.size': 18})"
   ]
  },
  {
   "cell_type": "code",
   "execution_count": 6,
   "id": "78cf6ed7",
   "metadata": {},
   "outputs": [],
   "source": [
    "cfg = toml.load(\"configuration.toml\")\n",
    "pkey = cfg[\"auth\"][\"pkey\"]\n",
    "skey = cfg[\"auth\"][\"skey\"]\n",
    "\n",
    "client = Client(pkey, skey)"
   ]
  },
  {
   "cell_type": "markdown",
   "id": "231f2967",
   "metadata": {},
   "source": [
    "## How to buy/sell a coin\n",
    "\n",
    "Before anything else, the order has to conform to order filters, which can be retrieved "
   ]
  },
  {
   "cell_type": "code",
   "execution_count": 7,
   "id": "db30fd87",
   "metadata": {},
   "outputs": [
    {
     "data": {
      "text/plain": [
       "{'symbol': 'DOGEUSDT',\n",
       " 'status': 'TRADING',\n",
       " 'baseAsset': 'DOGE',\n",
       " 'baseAssetPrecision': 8,\n",
       " 'quoteAsset': 'USDT',\n",
       " 'quotePrecision': 8,\n",
       " 'quoteAssetPrecision': 8,\n",
       " 'baseCommissionPrecision': 8,\n",
       " 'quoteCommissionPrecision': 8,\n",
       " 'orderTypes': ['LIMIT',\n",
       "  'LIMIT_MAKER',\n",
       "  'MARKET',\n",
       "  'STOP_LOSS_LIMIT',\n",
       "  'TAKE_PROFIT_LIMIT'],\n",
       " 'icebergAllowed': True,\n",
       " 'ocoAllowed': True,\n",
       " 'quoteOrderQtyMarketAllowed': True,\n",
       " 'isSpotTradingAllowed': True,\n",
       " 'isMarginTradingAllowed': True,\n",
       " 'filters': [{'filterType': 'PRICE_FILTER',\n",
       "   'minPrice': '0.00001000',\n",
       "   'maxPrice': '1000.00000000',\n",
       "   'tickSize': '0.00001000'},\n",
       "  {'filterType': 'PERCENT_PRICE',\n",
       "   'multiplierUp': '5',\n",
       "   'multiplierDown': '0.2',\n",
       "   'avgPriceMins': 5},\n",
       "  {'filterType': 'LOT_SIZE',\n",
       "   'minQty': '0.10000000',\n",
       "   'maxQty': '9000000.00000000',\n",
       "   'stepSize': '0.10000000'},\n",
       "  {'filterType': 'MIN_NOTIONAL',\n",
       "   'minNotional': '10.00000000',\n",
       "   'applyToMarket': True,\n",
       "   'avgPriceMins': 5},\n",
       "  {'filterType': 'ICEBERG_PARTS', 'limit': 10},\n",
       "  {'filterType': 'MARKET_LOT_SIZE',\n",
       "   'minQty': '0.00000000',\n",
       "   'maxQty': '9955538.26587908',\n",
       "   'stepSize': '0.00000000'},\n",
       "  {'filterType': 'MAX_NUM_ORDERS', 'maxNumOrders': 200},\n",
       "  {'filterType': 'MAX_NUM_ALGO_ORDERS', 'maxNumAlgoOrders': 5}],\n",
       " 'permissions': ['SPOT', 'MARGIN']}"
      ]
     },
     "execution_count": 7,
     "metadata": {},
     "output_type": "execute_result"
    }
   ],
   "source": [
    "from binance.client import Client\n",
    "\n",
    "get_exchange_info_for_symbol(client, \"DOGEUSDT\")"
   ]
  },
  {
   "cell_type": "markdown",
   "id": "83fba41b",
   "metadata": {},
   "source": [
    "Important things in the exchange info:\n",
    "- baseAssetPrecision / quoteAssetPrecision - neet to format orders to that precision\n",
    "- filters - must conform order to filters\n",
    "\n",
    "For constructing orders: I assume we have the desired quantity of USD / crypto that we want to buy or sell. For simplicity, take this to be a limit order at first. We can check that the order would pass the filters before sending it to binance. This would allow us to, in the future, modify orders before sending them in."
   ]
  },
  {
   "cell_type": "code",
   "execution_count": null,
   "id": "82c2dbe3",
   "metadata": {},
   "outputs": [],
   "source": []
  }
 ],
 "metadata": {
  "kernelspec": {
   "display_name": "Python 3",
   "language": "python",
   "name": "python3"
  },
  "language_info": {
   "codemirror_mode": {
    "name": "ipython",
    "version": 3
   },
   "file_extension": ".py",
   "mimetype": "text/x-python",
   "name": "python",
   "nbconvert_exporter": "python",
   "pygments_lexer": "ipython3",
   "version": "3.9.4"
  }
 },
 "nbformat": 4,
 "nbformat_minor": 5
}
