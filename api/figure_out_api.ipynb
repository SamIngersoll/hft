{
 "cells": [
  {
   "cell_type": "code",
   "execution_count": null,
   "id": "dcc2e91d",
   "metadata": {},
   "outputs": [],
   "source": [
    "import time\n",
    "import toml\n",
    "import numpy as np\n",
    "import matplotlib.pyplot as plt\n",
    "\n",
    "from typing import Dict, Optional\n",
    "from binance.client import Client\n",
    "from datetime import datetime, timezone\n",
    "\n",
    "plt.rcParams[\"figure.figsize\"] = (20,10)\n",
    "plt.rcParams.update({'font.size': 18})"
   ]
  },
  {
   "cell_type": "code",
   "execution_count": null,
   "id": "2a2fa3b4",
   "metadata": {},
   "outputs": [],
   "source": [
    "cfg = toml.load(\"configuration.toml\")\n",
    "pkey = cfg[\"auth\"][\"pkey\"]\n",
    "skey = cfg[\"auth\"][\"skey\"]\n",
    "\n",
    "client = Client(pkey, skey)"
   ]
  },
  {
   "cell_type": "markdown",
   "id": "a547ab7d",
   "metadata": {},
   "source": [
    "## Order Validation\n",
    "\n",
    "All orders must obey certain rules called Filters (see https://github.com/binance/binance-spot-api-docs/blob/master/rest-api.md#filters). The function `client.get_exchange_info` returns a dictionary that has a list of dictionaries containing information each symbol in the exchange. After searching through the list for the desired dict of information (say for DOGEUSDT), you can retrieve the list of filters which must be obeyed.\n",
    "\n",
    "Quick recap of the filters. This stuff can be skimmed, then reviewed as needed.\n",
    "\n",
    "### Price Filter - min / max price\n",
    "```\n",
    "{\n",
    "  \"filterType\": \"PRICE_FILTER\",\n",
    "  \"minPrice\": \"0.00000100\",\n",
    "  \"maxPrice\": \"100000.00000000\",\n",
    "  \"tickSize\": \"0.00000100\"\n",
    "}\n",
    "```\n",
    "\n",
    "- `minPrice <= price <= maxPrice`\n",
    "- `(price - minPrice) % tickSize == 0`\n",
    "\n",
    "\n",
    "### Percent Price - valid range for price based on prev. trades\n",
    "```\n",
    "{\n",
    "  \"filterType\": \"PERCENT_PRICE\",\n",
    "  \"multiplierUp\": \"1.3000\",\n",
    "  \"multiplierDown\": \"0.7000\",\n",
    "  \"avgPriceMins\": 5\n",
    "}\n",
    "```\n",
    "- `multiplierDown * weightedAveragePrice <= price <= multiplierUp * weightedAveragePrice`\n",
    "`weightedAveragePrice` from exchange info for that symbol\n",
    "\n",
    "### Lot Size - min/max quantity\n",
    "```\n",
    "{\n",
    "  \"filterType\": \"LOT_SIZE\",\n",
    "  \"minQty\": \"0.00100000\",\n",
    "  \"maxQty\": \"100000.00000000\",\n",
    "  \"stepSize\": \"0.00100000\"\n",
    "}\n",
    "```\n",
    "- `minQty <= quantity <= maxQty`\n",
    "- `(quantity-minQty) % stepSize == 0`\n",
    "If it is an Iceberg order, the quantity for each Iceberg order must satisfy this.\n",
    "\n",
    "### Min Notional - min/max value\n",
    "```\n",
    "{\n",
    "  \"filterType\": \"MIN_NOTIONAL\",\n",
    "  \"minNotional\": \"0.00100000\",\n",
    "  \"applyToMarket\": true,\n",
    "  \"avgPriceMins\": 5\n",
    "}\n",
    "```\n",
    "- `price * quantity > minNotional`\n",
    "\n",
    "if `applyToMarket`, Market Orders also must obey this filter. Since market orders have no price, the average price is used over the last `avgPriceMinutes` mins, w/ `avgPriceMinutes == 0` implying that the last price will be used.\n",
    "\n",
    "### Iceberg Parts - rule for breaking up big orders\n",
    "```\n",
    "{\n",
    "  \"filterType\": \"ICEBERG_PARTS\",\n",
    "  \"limit\": 10\n",
    "}\n",
    "```\n",
    "Defines the maximum number of parts that an Iceberg Order can have. Number of `ICEBERG_PARTS` is `CEIL(qty / icebergQty)`.\n",
    "\n",
    "### Market Lot Size - same as Lot size, but for Market Orders\n",
    "\n",
    "### Max Num Orders - max orders that can be open on a symbol\n",
    "```\n",
    "{\n",
    "  \"filterType\": \"MAX_NUM_ORDERS\",\n",
    "  \"maxNumOrders\": 25\n",
    "}\n",
    "```\n",
    "There is also `Max num algo orders`, `Max num iceberg orders`, `Exchange max num orders`, `Exchange max num algo orders`, all of which follow the same format.\n",
    "\n",
    "### Max Position Filter - Defines the allowed max position an account can have on the base asset of a symbol\n",
    "```\n",
    "{\n",
    "  \"filterType\":\"MAX_POSITION\",\n",
    "  \"maxPosition\":\"10.00000000\"\n",
    "}\n",
    "```\n",
    "Defined as sum of the account's\n",
    "1. Free balance of base asset\n",
    "2. Locked balance of base asset\n",
    "3. Sum of the quantity of all open BUY orders\n",
    "\n",
    "\n",
    "# Steps to execute buy/sell order\n",
    "\n",
    "1. `get_exchange_info` and filter for the desired symbols to find the \"Filters\" for each symbol\n",
    "2. Build order conforming to \"Filters\" for the desired symbol (depending on type of order? Since Market Orders execute instantly on the best possible open bid, we would probably want to go with those)\n",
    "3. Execute order\n",
    "4. Profit????\n",
    "\n",
    "To get the stream of market info, see websocket stuff near bottom of notebook"
   ]
  },
  {
   "cell_type": "code",
   "execution_count": null,
   "id": "3aa9459c",
   "metadata": {},
   "outputs": [],
   "source": [
    "exch_info = client.get_exchange_info()\n",
    "\n",
    "def get_exchange_info_for_symbol(client: Client, symbol: str) -> Optional[Dict]:\n",
    "    exchange_info = client.get_exchange_info()\n",
    "    for symbol_data in exchange_info[\"symbols\"]:\n",
    "        if symbol_data[\"symbol\"] == symbol:\n",
    "            return symbol_data\n",
    "    return None\n",
    "\n",
    "get_exchange_info_for_symbol(client, \"DOGEUSDT\")"
   ]
  },
  {
   "cell_type": "code",
   "execution_count": null,
   "id": "5cce2d58",
   "metadata": {},
   "outputs": [],
   "source": [
    "doge_usd_tick_data = client.get_ticker(symbol=\"DOGEUSDT\")\n",
    "bid_price = doge_usd_tick_data[\"lastPrice\"]\n",
    "quantity = 100\n",
    "\n",
    "print(float(bid_price) * quantity)\n",
    "\n",
    "min_quantity = f\"{round(10.00000000 / float(bid_price) + 1):.8f}\"\n",
    "print(round(1 + 10.00000000 / float(bid_price)), min_quantity)\n",
    "\n",
    "client.create_test_order(\n",
    "    symbol=\"DOGEUSDT\",\n",
    "    side=client.SIDE_BUY,\n",
    "    type=client.ORDER_TYPE_LIMIT,\n",
    "    timeInForce=client.TIME_IN_FORCE_GTC,\n",
    "    quantity=min_quantity,\n",
    "    price=bid_price\n",
    ")"
   ]
  },
  {
   "cell_type": "markdown",
   "id": "a4acb07d",
   "metadata": {},
   "source": [
    "# Data Mining\n",
    "\n",
    "We want that sweet-sweet data. Best endpoint for that is `client.get_historical_trades(symbol=\"SYMBOL\")`, which gives trades in chunks of 500 from some ID (default is most recent).\n",
    "\n",
    "To get a big ol dataset of historical data,\n",
    "1. run `historical_trades = client.get_historical_trades(symbol=\"SYMBOL\")` and save the data\n",
    "2. get minimum id by `min_id = historical_trades[0][\"id\"]`\n",
    "3. `goto 1`, but this time include `fromId=str(min_id - 500)`\n",
    "\n",
    "Since the trade IDs are sequential, you can also totally start from id 0 and work your way up to the most current trades."
   ]
  },
  {
   "cell_type": "code",
   "execution_count": null,
   "id": "b73e8332",
   "metadata": {
    "scrolled": true
   },
   "outputs": [],
   "source": [
    "historical_trades = client.get_historical_trades(symbol=\"DOGEUSDT\")\n",
    "\n",
    "trade_ids = [trd[\"id\"] for trd in historical_trades]\n",
    "\n",
    "trade_times = [trd[\"time\"] / 100 for trd in historical_trades]\n",
    "trade_dts = [datetime.fromtimestamp(timestamp, timezone.utc) for timestamp in trade_times]"
   ]
  },
  {
   "cell_type": "code",
   "execution_count": null,
   "id": "a81a13bf",
   "metadata": {},
   "outputs": [],
   "source": [
    "plt.plot(trade_dts, [i for i in range(len(trade_dts))])\n",
    "plt.title(\"Number of trades over time\")\n",
    "plt.xlabel(\"trade time\")\n",
    "plt.ylabel(\"trade number (of the previous 500 trades)\")"
   ]
  },
  {
   "cell_type": "code",
   "execution_count": null,
   "id": "93eea963",
   "metadata": {},
   "outputs": [],
   "source": [
    "print(f\"Max dt: {max(np.diff(trade_dts))}\\nMin dt: {min(np.diff(trade_dts))}\\nMean dt: {(max(trade_dts) - min(trade_dts)) / len(np.diff(trade_dts))}\")  # say yes to calcualting the same thing 4 times pointlessly"
   ]
  },
  {
   "cell_type": "code",
   "execution_count": null,
   "id": "580a6652",
   "metadata": {},
   "outputs": [],
   "source": [
    "fs = [f.total_seconds() for f in np.diff(trade_dts)]\n",
    "plt.hist(fs, bins=100)  # suppress unecessary output w/ the _ = ...\n",
    "plt.xlabel(f\"time between trades [s]\")\n",
    "plt.ylabel(f\"number of trades\")"
   ]
  },
  {
   "cell_type": "code",
   "execution_count": null,
   "id": "ef428ed0",
   "metadata": {
    "tags": []
   },
   "outputs": [],
   "source": [
    "historical_trades"
   ]
  },
  {
   "cell_type": "markdown",
   "id": "148483cb",
   "metadata": {},
   "source": [
    "# Websocket trading\n",
    "\n",
    "Seems like the way to go - you hand a callback to a stream (1 Hz) of data. It is a rolling window over the previous 24 hrs (e.g. 1 PM yesterday to 1 PM today). Depending on the last price, best bid price, or best ask price, we can decide to make a trade or not. If speed is the primary benefit, Market Orders will take the first possible open bid/ask. It may not give the best price, but will execute instantly, and if we are quick, we will get the best bid/ask price which are listed in the socket stream.\n",
    "\n",
    "### Ticker-symbol websocket stream format\n",
    "\n",
    "```json\n",
    "{\n",
    "  \"e\": \"24hrTicker\",  // Event type\n",
    "  \"E\": 123456789,     // Event time\n",
    "  \"s\": \"BNBBTC\",      // Symbol\n",
    "  \"p\": \"0.0015\",      // Price change\n",
    "  \"P\": \"250.00\",      // Price change percent\n",
    "  \"w\": \"0.0018\",      // Weighted average price\n",
    "  \"x\": \"0.0009\",      // First trade(F)-1 price (first trade before the 24hr rolling window)\n",
    "  \"c\": \"0.0025\",      // Last price\n",
    "  \"Q\": \"10\",          // Last quantity\n",
    "  \"b\": \"0.0024\",      // Best bid price\n",
    "  \"B\": \"10\",          // Best bid quantity\n",
    "  \"a\": \"0.0026\",      // Best ask price\n",
    "  \"A\": \"100\",         // Best ask quantity\n",
    "  \"o\": \"0.0010\",      // Open price\n",
    "  \"h\": \"0.0025\",      // High price\n",
    "  \"l\": \"0.0010\",      // Low price\n",
    "  \"v\": \"10000\",       // Total traded base asset volume\n",
    "  \"q\": \"18\",          // Total traded quote asset volume\n",
    "  \"O\": 0,             // Statistics open time\n",
    "  \"C\": 86400000,      // Statistics close time\n",
    "  \"F\": 0,             // First trade ID\n",
    "  \"L\": 18150,         // Last trade Id\n",
    "  \"n\": 18151          // Total number of trades\n",
    "}\n",
    "```"
   ]
  },
  {
   "cell_type": "code",
   "execution_count": null,
   "id": "2eddd315",
   "metadata": {},
   "outputs": [],
   "source": [
    "from binance.websockets import BinanceSocketManager\n",
    "\n",
    "bm = BinanceSocketManager(client)\n",
    "\n",
    "class unique_time_dict:\n",
    "    # Got duplicates from the stream, so create a wrapper\n",
    "    # to dicts which implement hash/eq so can be added to sets\n",
    "    def __init__(self, d):\n",
    "        self._d = d\n",
    "\n",
    "    def __repr__(self):\n",
    "        return dict.__repr__(self._d)\n",
    "\n",
    "    def __hash__(self):\n",
    "        return self._d[\"E\"]\n",
    "    \n",
    "    def __eq__(self, other):\n",
    "        return self._d[\"E\"] == other[\"E\"]\n",
    "    \n",
    "    def __ne__(self, other):\n",
    "        return not self == other\n",
    "\n",
    "    def __getitem__(self, k):\n",
    "        return self._d[k]\n",
    "    \n",
    "    def __setitem__(self, k, v):\n",
    "        self._d[k] = v\n",
    "\n",
    "s = set()\n",
    "def cb(msg):\n",
    "    global s\n",
    "    s.add(unique_time_dict(msg))\n",
    "\n",
    "bm.start_symbol_ticker_socket('DOGEUSDT', cb)"
   ]
  },
  {
   "cell_type": "code",
   "execution_count": null,
   "id": "11231147",
   "metadata": {},
   "outputs": [],
   "source": [
    "bm.start()\n",
    "time.sleep(2)\n",
    "bm.stop_socket(\"DOGEUSDT\")  # somehow this doesn't work"
   ]
  },
  {
   "cell_type": "code",
   "execution_count": null,
   "id": "a135d1d9",
   "metadata": {},
   "outputs": [],
   "source": [
    "while True:\n",
    "    time.sleep(1)\n",
    "    print(len(s))"
   ]
  },
  {
   "cell_type": "markdown",
   "id": "0f9e499e",
   "metadata": {},
   "source": [
    "from https://python-binance.readthedocs.io/en/latest/websockets.html\n",
    "\n",
    "Close and exit program\n",
    "\n",
    "Websockets utilise a reactor loop from the Twisted library. Using the close method above will close the websocket connections but it won’t stop the reactor loop so your code may not exit when you expect.\n",
    "\n",
    "If you do want to exit then use the stop method from reactor like below."
   ]
  },
  {
   "cell_type": "code",
   "execution_count": null,
   "id": "aad05aaa",
   "metadata": {},
   "outputs": [],
   "source": [
    "# from twisted.internet import reactor\n",
    "# reactor.stop()"
   ]
  }
 ],
 "metadata": {
  "kernelspec": {
   "display_name": "Python 3",
   "language": "python",
   "name": "python3"
  },
  "language_info": {
   "codemirror_mode": {
    "name": "ipython",
    "version": 3
   },
   "file_extension": ".py",
   "mimetype": "text/x-python",
   "name": "python",
   "nbconvert_exporter": "python",
   "pygments_lexer": "ipython3",
   "version": "3.9.4"
  }
 },
 "nbformat": 4,
 "nbformat_minor": 5
}
