{
 "cells": [
  {
   "cell_type": "code",
   "execution_count": 1,
   "id": "psychological-sport",
   "metadata": {},
   "outputs": [],
   "source": [
    "import toml\n",
    "import numpy as np\n",
    "import matplotlib.pyplot as plt\n",
    "\n",
    "from typing import Dict, Optional\n",
    "from binance.client import Client\n",
    "from datetime import datetime, timezone\n",
    "\n",
    "plt.rcParams[\"figure.figsize\"] = (20,10)\n",
    "plt.rcParams.update({'font.size': 18})"
   ]
  },
  {
   "cell_type": "code",
   "execution_count": 2,
   "id": "welcome-alloy",
   "metadata": {},
   "outputs": [],
   "source": [
    "cfg = toml.load(\"configuration.toml\")\n",
    "pkey = cfg[\"auth\"][\"pkey\"]\n",
    "skey = cfg[\"auth\"][\"skey\"]\n",
    "\n",
    "client = Client(pkey, skey)"
   ]
  },
  {
   "cell_type": "markdown",
   "id": "headed-teach",
   "metadata": {},
   "source": [
    "## Order Validation\n",
    "\n",
    "All orders must obey certain rules called Filters (see https://github.com/binance/binance-spot-api-docs/blob/master/rest-api.md#filters). The function `client.get_exchange_info` returns a dictionary that has a list of dictionaries containing information each symbol in the exchange. After searching through the list for the desired dict of information (say for DOGEUSDT), you can retrieve the list of filters which must be obeyed.\n",
    "\n",
    "Quick recap of the filters. This stuff can be skimmed, then reviewed as needed.\n",
    "\n",
    "### Price Filter - min / max price\n",
    "```\n",
    "{\n",
    "  \"filterType\": \"PRICE_FILTER\",\n",
    "  \"minPrice\": \"0.00000100\",\n",
    "  \"maxPrice\": \"100000.00000000\",\n",
    "  \"tickSize\": \"0.00000100\"\n",
    "}\n",
    "```\n",
    "\n",
    "- `minPrice <= price <= maxPrice`\n",
    "- `(price - minPrice) % tickSize == 0`\n",
    "\n",
    "\n",
    "### Percent Price - valid range for price based on prev. trades\n",
    "```\n",
    "{\n",
    "  \"filterType\": \"PERCENT_PRICE\",\n",
    "  \"multiplierUp\": \"1.3000\",\n",
    "  \"multiplierDown\": \"0.7000\",\n",
    "  \"avgPriceMins\": 5\n",
    "}\n",
    "```\n",
    "- `multiplierDown * weightedAveragePrice <= price <= multiplierUp * weightedAveragePrice`\n",
    "`weightedAveragePrice` from exchange info for that symbol\n",
    "\n",
    "### Lot Size - min/max quantity\n",
    "```\n",
    "{\n",
    "  \"filterType\": \"LOT_SIZE\",\n",
    "  \"minQty\": \"0.00100000\",\n",
    "  \"maxQty\": \"100000.00000000\",\n",
    "  \"stepSize\": \"0.00100000\"\n",
    "}\n",
    "```\n",
    "- `minQty <= quantity <= maxQty`\n",
    "- `(quantity-minQty) % stepSize == 0`\n",
    "If it is an Iceberg order, the quantity for each Iceberg order must satisfy this.\n",
    "\n",
    "### Min Notional - min/max value\n",
    "```\n",
    "{\n",
    "  \"filterType\": \"MIN_NOTIONAL\",\n",
    "  \"minNotional\": \"0.00100000\",\n",
    "  \"applyToMarket\": true,\n",
    "  \"avgPriceMins\": 5\n",
    "}\n",
    "```\n",
    "- `price * quantity > minNotional`\n",
    "\n",
    "if `applyToMarket`, Market Orders also must obey this filter. Since market orders have no price, the average price is used over the last `avgPriceMinutes` mins, w/ `avgPriceMinutes == 0` implying that the last price will be used.\n",
    "\n",
    "### Iceberg Parts - rule for breaking up big orders\n",
    "```\n",
    "{\n",
    "  \"filterType\": \"ICEBERG_PARTS\",\n",
    "  \"limit\": 10\n",
    "}\n",
    "```\n",
    "Defines the maximum number of parts that an Iceberg Order can have. Number of `ICEBERG_PARTS` is `CEIL(qty / icebergQty)`.\n",
    "\n",
    "### Market Lot Size - same as Lot size, but for Market Orders\n",
    "\n",
    "### Max Num Orders - max orders that can be open on a symbol\n",
    "```\n",
    "{\n",
    "  \"filterType\": \"MAX_NUM_ORDERS\",\n",
    "  \"maxNumOrders\": 25\n",
    "}\n",
    "```\n",
    "There is also `Max num algo orders`, `Max num iceberg orders`, `Exchange max num orders`, `Exchange max num algo orders`, all of which follow the same format.\n",
    "\n",
    "### Max Position Filter - Defines the allowed max position an account can have on the base asset of a symbol\n",
    "```\n",
    "{\n",
    "  \"filterType\":\"MAX_POSITION\",\n",
    "  \"maxPosition\":\"10.00000000\"\n",
    "}\n",
    "```\n",
    "Defined as sum of the account's\n",
    "1. Free balance of base asset\n",
    "2. Locked balance of base asset\n",
    "3. Sum of the quantity of all open BUY orders\n",
    "\n",
    "\n",
    "# Steps to execute buy/sell order\n",
    "\n",
    "1. `get_exchange_info` and filter for the desired symbols to find the \"Filters\" for each symbol\n",
    "2. Build order conforming to \"Filters\" for the desired symbol (depending on type of order? Since Market Orders execute instantly on the best possible open bid, we would probably want to go with those)\n",
    "3. Execute order\n",
    "4. Profit????\n",
    "\n",
    "# Websocket trading\n",
    "\n",
    "seems a bit more involved/nuanced, but "
   ]
  },
  {
   "cell_type": "code",
   "execution_count": 3,
   "id": "according-delaware",
   "metadata": {
    "scrolled": false
   },
   "outputs": [
    {
     "data": {
      "text/plain": [
       "{'symbol': 'DOGEUSDT',\n",
       " 'status': 'TRADING',\n",
       " 'baseAsset': 'DOGE',\n",
       " 'baseAssetPrecision': 8,\n",
       " 'quoteAsset': 'USDT',\n",
       " 'quotePrecision': 8,\n",
       " 'quoteAssetPrecision': 8,\n",
       " 'baseCommissionPrecision': 8,\n",
       " 'quoteCommissionPrecision': 8,\n",
       " 'orderTypes': ['LIMIT',\n",
       "  'LIMIT_MAKER',\n",
       "  'MARKET',\n",
       "  'STOP_LOSS_LIMIT',\n",
       "  'TAKE_PROFIT_LIMIT'],\n",
       " 'icebergAllowed': True,\n",
       " 'ocoAllowed': True,\n",
       " 'quoteOrderQtyMarketAllowed': True,\n",
       " 'isSpotTradingAllowed': True,\n",
       " 'isMarginTradingAllowed': True,\n",
       " 'filters': [{'filterType': 'PRICE_FILTER',\n",
       "   'minPrice': '0.00000010',\n",
       "   'maxPrice': '1000.00000000',\n",
       "   'tickSize': '0.00000010'},\n",
       "  {'filterType': 'PERCENT_PRICE',\n",
       "   'multiplierUp': '5',\n",
       "   'multiplierDown': '0.2',\n",
       "   'avgPriceMins': 5},\n",
       "  {'filterType': 'LOT_SIZE',\n",
       "   'minQty': '1.00000000',\n",
       "   'maxQty': '90000000.00000000',\n",
       "   'stepSize': '1.00000000'},\n",
       "  {'filterType': 'MIN_NOTIONAL',\n",
       "   'minNotional': '10.00000000',\n",
       "   'applyToMarket': True,\n",
       "   'avgPriceMins': 5},\n",
       "  {'filterType': 'ICEBERG_PARTS', 'limit': 10},\n",
       "  {'filterType': 'MARKET_LOT_SIZE',\n",
       "   'minQty': '0.00000000',\n",
       "   'maxQty': '14475967.01388889',\n",
       "   'stepSize': '0.00000000'},\n",
       "  {'filterType': 'MAX_NUM_ORDERS', 'maxNumOrders': 200},\n",
       "  {'filterType': 'MAX_NUM_ALGO_ORDERS', 'maxNumAlgoOrders': 5}],\n",
       " 'permissions': ['SPOT', 'MARGIN']}"
      ]
     },
     "execution_count": 3,
     "metadata": {},
     "output_type": "execute_result"
    }
   ],
   "source": [
    "exch_info = client.get_exchange_info()\n",
    "\n",
    "def get_symbol_exchange_info(client: Client, symbol: str) -> Optional[Dict]:\n",
    "    exchange_info = client.get_exchange_info()\n",
    "    for symbol_data in exchange_info[\"symbols\"]:\n",
    "        if symbol_data[\"symbol\"] == symbol:\n",
    "            return symbol_data\n",
    "    return None\n",
    "\n",
    "get_symbol_exchange_info(client, \"DOGEUSDT\")"
   ]
  },
  {
   "cell_type": "code",
   "execution_count": 4,
   "id": "continued-worship",
   "metadata": {},
   "outputs": [
    {
     "name": "stdout",
     "output_type": "stream",
     "text": [
      "5.8574399999999995\n",
      "172 172.00000000\n"
     ]
    },
    {
     "data": {
      "text/plain": [
       "{}"
      ]
     },
     "execution_count": 4,
     "metadata": {},
     "output_type": "execute_result"
    }
   ],
   "source": [
    "doge_usd_tick_data = client.get_ticker(symbol=\"DOGEUSDT\")\n",
    "bid_price = doge_usd_tick_data[\"lastPrice\"]\n",
    "quantity = 100\n",
    "\n",
    "print(float(bid_price) * quantity)\n",
    "\n",
    "min_quantity = f\"{round(10.00000000 / float(bid_price) + 1):.8f}\"\n",
    "print(round(1 + 10.00000000 / float(bid_price)), min_quantity)\n",
    "\n",
    "client.create_test_order(\n",
    "    symbol=\"DOGEUSDT\",\n",
    "    side=client.SIDE_SELL,\n",
    "    type=client.ORDER_TYPE_LIMIT,\n",
    "    timeInForce=client.TIME_IN_FORCE_GTC,\n",
    "    quantity=min_quantity,\n",
    "    price=bid_price\n",
    ")"
   ]
  },
  {
   "cell_type": "markdown",
   "id": "corrected-summer",
   "metadata": {},
   "source": [
    "# Data Mining\n",
    "\n",
    "We want that sweet-sweet data. Best endpoint for that is `client.get_historical_trades(symbol=\"SYMBOL\")`, which gives trades in chunks of 500 from some ID (default is most recent).\n",
    "\n",
    "To get a big ol dataset of historical data,\n",
    "1. run `historical_trades = client.get_historical_trades(symbol=\"SYMBOL\")` and save the data\n",
    "2. get minimum id by `min_id = historical_trades[0][\"id\"]`\n",
    "3. `goto 1`, but this time include `id=min_id`"
   ]
  },
  {
   "cell_type": "code",
   "execution_count": 5,
   "id": "latest-gathering",
   "metadata": {},
   "outputs": [],
   "source": [
    "historical_trades = client.get_historical_trades(symbol=\"DOGEUSDT\")\n",
    "\n",
    "trade_ids = [trd[\"id\"] for trd in historical_trades]\n",
    "\n",
    "trade_times = [trd[\"time\"] / 100 for trd in historical_trades]\n",
    "trade_dts = [datetime.fromtimestamp(timestamp, timezone.utc) for timestamp in trade_times]"
   ]
  },
  {
   "cell_type": "code",
   "execution_count": 6,
   "id": "above-niagara",
   "metadata": {},
   "outputs": [
    {
     "data": {
      "text/plain": [
       "Text(0, 0.5, 'trade time')"
      ]
     },
     "execution_count": 6,
     "metadata": {},
     "output_type": "execute_result"
    },
    {
     "data": {
      "image/png": "[encoded data removed]",
      "text/plain": [
       "<Figure size 1440x720 with 1 Axes>"
      ]
     },
     "metadata": {
      "needs_background": "light"
     },
     "output_type": "display_data"
    }
   ],
   "source": [
    "plt.plot(trade_dts)\n",
    "plt.title(\"'CDF' of trade times\")\n",
    "plt.xlabel(\"trade number (of the previous 500 trades)\")\n",
    "plt.ylabel(\"trade time\")"
   ]
  },
  {
   "cell_type": "code",
   "execution_count": 7,
   "id": "effective-traffic",
   "metadata": {},
   "outputs": [
    {
     "name": "stdout",
     "output_type": "stream",
     "text": [
      "Max dt: 0:00:53.340000\n",
      "Min dt: 0:00:00\n",
      "Mean dt: 0:00:03.263046\n"
     ]
    }
   ],
   "source": [
    "print(f\"Max dt: {max(np.diff(trade_dts))}\\nMin dt: {min(np.diff(trade_dts))}\\nMean dt: {(max(trade_dts) - min(trade_dts)) / len(np.diff(trade_dts))}\")  # say yes to calcualting the same thing 4 times pointlessly"
   ]
  },
  {
   "cell_type": "code",
   "execution_count": 8,
   "id": "portuguese-designer",
   "metadata": {},
   "outputs": [
    {
     "data": {
      "text/plain": [
       "Text(0, 0.5, 'number of trades')"
      ]
     },
     "execution_count": 8,
     "metadata": {},
     "output_type": "execute_result"
    },
    {
     "data": {
      "image/png": "[encoded data removed]",
      "text/plain": [
       "<Figure size 1440x720 with 1 Axes>"
      ]
     },
     "metadata": {
      "needs_background": "light"
     },
     "output_type": "display_data"
    }
   ],
   "source": [
    "fs = [f.total_seconds() for f in np.diff(trade_dts)]\n",
    "plt.hist(fs, bins=100)  # suppress unecessary output w/ the _ = ...\n",
    "plt.xlabel(f\"time between trades [s]\")\n",
    "plt.ylabel(f\"number of trades\")"
   ]
  }
 ],
 "metadata": {
  "kernelspec": {
   "display_name": "Python 3",
   "language": "python",
   "name": "python3"
  },
  "language_info": {
   "codemirror_mode": {
    "name": "ipython",
    "version": 3
   },
   "file_extension": ".py",
   "mimetype": "text/x-python",
   "name": "python",
   "nbconvert_exporter": "python",
   "pygments_lexer": "ipython3",
   "version": "3.9.2"
  }
 },
 "nbformat": 4,
 "nbformat_minor": 5
}
